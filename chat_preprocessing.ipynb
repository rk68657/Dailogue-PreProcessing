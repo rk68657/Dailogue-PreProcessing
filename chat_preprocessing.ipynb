{
 "cells": [
  {
   "cell_type": "code",
   "execution_count": 1,
   "id": "00f4fffe-af4f-45ea-a401-74ef7895be03",
   "metadata": {
    "execution": {
     "iopub.execute_input": "2023-09-29T05:24:51.106549Z",
     "iopub.status.busy": "2023-09-29T05:24:51.106305Z",
     "iopub.status.idle": "2023-09-29T05:24:51.114869Z",
     "shell.execute_reply": "2023-09-29T05:24:51.114222Z",
     "shell.execute_reply.started": "2023-09-29T05:24:51.106524Z"
    },
    "tags": []
   },
   "outputs": [],
   "source": [
    "import pandas as pd\n",
    "import numpy as np\n",
    "import os\n",
    "import re\n",
    "import ast\n",
    "%config PPMagics.autolimit=0\n",
    "pd.set_option('display.max_columns', None)\n",
    "pd.set_option('display.max_rows', None)\n",
    "pd.set_option('display.max_colwidth', None)\n",
    "pd.set_option('display.max_columns', None)\n",
    "pd.set_option('display.max_rows', None)\n"
   ]
  },
  {
   "cell_type": "code",
   "execution_count": 2,
   "id": "0873b770-6538-4af0-bb24-28ae764595c7",
   "metadata": {
    "execution": {
     "iopub.execute_input": "2023-09-29T05:24:52.014085Z",
     "iopub.status.busy": "2023-09-29T05:24:52.013306Z",
     "iopub.status.idle": "2023-09-29T05:25:29.265898Z",
     "shell.execute_reply": "2023-09-29T05:25:29.264708Z",
     "shell.execute_reply.started": "2023-09-29T05:24:52.014057Z"
    },
    "tags": []
   },
   "outputs": [
    {
     "name": "stdout",
     "output_type": "stream",
     "text": [
      "Looking in indexes: https://dtr-vip.ccg13.slc.paypalinc.com/artifactory/api/pypi/python/simple\n",
      "Requirement already satisfied: nltk in /opt/conda/lib/python3.7/site-packages (3.8.1)\n",
      "Requirement already satisfied: click in /opt/conda/lib/python3.7/site-packages (from nltk) (8.1.3)\n",
      "Requirement already satisfied: tqdm in /opt/conda/lib/python3.7/site-packages (from nltk) (4.64.1)\n",
      "Requirement already satisfied: joblib in /opt/conda/lib/python3.7/site-packages (from nltk) (1.2.0)\n",
      "Requirement already satisfied: regex>=2021.8.3 in /opt/conda/lib/python3.7/site-packages (from nltk) (2023.6.3)\n",
      "Requirement already satisfied: importlib-metadata in /opt/conda/lib/python3.7/site-packages (from click->nltk) (4.11.3)\n",
      "Requirement already satisfied: typing-extensions>=3.6.4 in /opt/conda/lib/python3.7/site-packages (from importlib-metadata->click->nltk) (4.4.0)\n",
      "Requirement already satisfied: zipp>=0.5 in /opt/conda/lib/python3.7/site-packages (from importlib-metadata->click->nltk) (3.11.0)\n",
      "\n",
      "\u001b[1m[\u001b[0m\u001b[34;49mnotice\u001b[0m\u001b[1;39;49m]\u001b[0m\u001b[39;49m A new release of pip is available: \u001b[0m\u001b[31;49m23.0.1\u001b[0m\u001b[39;49m -> \u001b[0m\u001b[32;49m23.2.1\u001b[0m\n",
      "\u001b[1m[\u001b[0m\u001b[34;49mnotice\u001b[0m\u001b[1;39;49m]\u001b[0m\u001b[39;49m To update, run: \u001b[0m\u001b[32;49mpip install --upgrade pip\u001b[0m\n",
      "Looking in indexes: https://dtr-vip.ccg13.slc.paypalinc.com/artifactory/api/pypi/python/simple\n",
      "Requirement already satisfied: ftfy in /opt/conda/lib/python3.7/site-packages (6.1.1)\n",
      "Requirement already satisfied: wcwidth>=0.2.5 in /opt/conda/lib/python3.7/site-packages (from ftfy) (0.2.6)\n",
      "\n",
      "\u001b[1m[\u001b[0m\u001b[34;49mnotice\u001b[0m\u001b[1;39;49m]\u001b[0m\u001b[39;49m A new release of pip is available: \u001b[0m\u001b[31;49m23.0.1\u001b[0m\u001b[39;49m -> \u001b[0m\u001b[32;49m23.2.1\u001b[0m\n",
      "\u001b[1m[\u001b[0m\u001b[34;49mnotice\u001b[0m\u001b[1;39;49m]\u001b[0m\u001b[39;49m To update, run: \u001b[0m\u001b[32;49mpip install --upgrade pip\u001b[0m\n",
      "Looking in indexes: https://dtr-vip.ccg13.slc.paypalinc.com/artifactory/api/pypi/python/simple\n",
      "Collecting emoji\n",
      "  Using cached https://dtr-vip.ccg13.slc.paypalinc.com/artifactory/api/pypi/python/packages/packages/96/c6/0114b2040a96561fd1b44c75df749bbd3c898bf8047fb5ce8d7590d2dee6/emoji-2.8.0-py2.py3-none-any.whl (358 kB)\n",
      "Installing collected packages: emoji\n",
      "Successfully installed emoji-2.8.0\n",
      "\n",
      "\u001b[1m[\u001b[0m\u001b[34;49mnotice\u001b[0m\u001b[1;39;49m]\u001b[0m\u001b[39;49m A new release of pip is available: \u001b[0m\u001b[31;49m23.0.1\u001b[0m\u001b[39;49m -> \u001b[0m\u001b[32;49m23.2.1\u001b[0m\n",
      "\u001b[1m[\u001b[0m\u001b[34;49mnotice\u001b[0m\u001b[1;39;49m]\u001b[0m\u001b[39;49m To update, run: \u001b[0m\u001b[32;49mpip install --upgrade pip\u001b[0m\n",
      "Looking in indexes: https://dtr-vip.ccg13.slc.paypalinc.com/artifactory/api/pypi/python/simple\n",
      "Requirement already satisfied: bs4 in /opt/conda/lib/python3.7/site-packages (0.0.1)\n",
      "Requirement already satisfied: beautifulsoup4 in /opt/conda/lib/python3.7/site-packages (from bs4) (4.6.0)\n",
      "\n",
      "\u001b[1m[\u001b[0m\u001b[34;49mnotice\u001b[0m\u001b[1;39;49m]\u001b[0m\u001b[39;49m A new release of pip is available: \u001b[0m\u001b[31;49m23.0.1\u001b[0m\u001b[39;49m -> \u001b[0m\u001b[32;49m23.2.1\u001b[0m\n",
      "\u001b[1m[\u001b[0m\u001b[34;49mnotice\u001b[0m\u001b[1;39;49m]\u001b[0m\u001b[39;49m To update, run: \u001b[0m\u001b[32;49mpip install --upgrade pip\u001b[0m\n",
      "Looking in indexes: https://dtr-vip.ccg13.slc.paypalinc.com/artifactory/api/pypi/python/simple\n",
      "Collecting html5lib\n",
      "  Using cached https://dtr-vip.ccg13.slc.paypalinc.com/artifactory/api/pypi/python/packages/packages/6c/dd/a834df6482147d48e225a49515aabc28974ad5a4ca3215c18a882565b028/html5lib-1.1-py2.py3-none-any.whl (112 kB)\n",
      "Requirement already satisfied: six>=1.9 in /opt/conda/lib/python3.7/site-packages (from html5lib) (1.15.0)\n",
      "Requirement already satisfied: webencodings in /opt/conda/lib/python3.7/site-packages (from html5lib) (0.5.1)\n",
      "Installing collected packages: html5lib\n",
      "Successfully installed html5lib-1.1\n",
      "\n",
      "\u001b[1m[\u001b[0m\u001b[34;49mnotice\u001b[0m\u001b[1;39;49m]\u001b[0m\u001b[39;49m A new release of pip is available: \u001b[0m\u001b[31;49m23.0.1\u001b[0m\u001b[39;49m -> \u001b[0m\u001b[32;49m23.2.1\u001b[0m\n",
      "\u001b[1m[\u001b[0m\u001b[34;49mnotice\u001b[0m\u001b[1;39;49m]\u001b[0m\u001b[39;49m To update, run: \u001b[0m\u001b[32;49mpip install --upgrade pip\u001b[0m\n",
      "Looking in indexes: https://dtr-vip.ccg13.slc.paypalinc.com/artifactory/api/pypi/python/simple\n",
      "Collecting lxml\n",
      "  Using cached https://dtr-vip.ccg13.slc.paypalinc.com/artifactory/api/pypi/python/packages/packages/66/bf/02b4f6e208138993f7e60d0e6a54e48b142f894236edc14a6db1ba61146c/lxml-4.9.3-cp37-cp37m-manylinux_2_17_x86_64.manylinux2014_x86_64.manylinux_2_24_x86_64.whl (6.5 MB)\n",
      "Installing collected packages: lxml\n",
      "Successfully installed lxml-4.9.3\n",
      "\n",
      "\u001b[1m[\u001b[0m\u001b[34;49mnotice\u001b[0m\u001b[1;39;49m]\u001b[0m\u001b[39;49m A new release of pip is available: \u001b[0m\u001b[31;49m23.0.1\u001b[0m\u001b[39;49m -> \u001b[0m\u001b[32;49m23.2.1\u001b[0m\n",
      "\u001b[1m[\u001b[0m\u001b[34;49mnotice\u001b[0m\u001b[1;39;49m]\u001b[0m\u001b[39;49m To update, run: \u001b[0m\u001b[32;49mpip install --upgrade pip\u001b[0m\n"
     ]
    }
   ],
   "source": [
    "!pip install nltk -i https://dtr-vip.ccg13.slc.paypalinc.com/artifactory/api/pypi/python/simple\n",
    "!pip install ftfy -i https://dtr-vip.ccg13.slc.paypalinc.com/artifactory/api/pypi/python/simple\n",
    "!pip install emoji -i https://dtr-vip.ccg13.slc.paypalinc.com/artifactory/api/pypi/python/simple\n",
    "!pip install bs4\n",
    "!pip install html5lib\n",
    "!pip install lxml"
   ]
  },
  {
   "cell_type": "code",
   "execution_count": 3,
   "id": "b5fba465-161f-4182-b2b3-e95504a747cf",
   "metadata": {
    "execution": {
     "iopub.execute_input": "2023-09-29T05:25:29.268058Z",
     "iopub.status.busy": "2023-09-29T05:25:29.267764Z",
     "iopub.status.idle": "2023-09-29T05:25:29.878495Z",
     "shell.execute_reply": "2023-09-29T05:25:29.877698Z",
     "shell.execute_reply.started": "2023-09-29T05:25:29.268027Z"
    },
    "tags": []
   },
   "outputs": [],
   "source": [
    "import pandas as pd\n",
    "import string, unicodedata, emoji\n",
    "import regex as re\n",
    "import warnings\n",
    "import re\n",
    "import nltk\n",
    "\n",
    "from bs4 import BeautifulSoup\n",
    "from nltk import sent_tokenize\n",
    "from ftfy import fix_text\n",
    "from tqdm import  tqdm\n",
    "\n",
    "warnings.filterwarnings(\"ignore\", category=UserWarning, module='bs4')\n",
    "tqdm.pandas()"
   ]
  },
  {
   "cell_type": "code",
   "execution_count": 5,
   "id": "23295084-756f-4e76-96cd-27790c2330b6",
   "metadata": {
    "execution": {
     "iopub.execute_input": "2023-09-14T10:47:55.348361Z",
     "iopub.status.busy": "2023-09-14T10:47:55.347406Z",
     "iopub.status.idle": "2023-09-14T10:47:55.370571Z",
     "shell.execute_reply": "2023-09-14T10:47:55.369785Z",
     "shell.execute_reply.started": "2023-09-14T10:47:55.348327Z"
    },
    "tags": []
   },
   "outputs": [],
   "source": [
    "\n",
    "transcripts_features_WK36_Validated_stage1=pd.read_csv('dailogues_week2crypto_validated.csv')"
   ]
  },
  {
   "cell_type": "code",
   "execution_count": 7,
   "id": "7ae593a5-9982-42ad-84ee-70c1e5b12214",
   "metadata": {
    "execution": {
     "iopub.execute_input": "2023-09-14T10:48:03.256155Z",
     "iopub.status.busy": "2023-09-14T10:48:03.255177Z",
     "iopub.status.idle": "2023-09-14T10:48:03.261278Z",
     "shell.execute_reply": "2023-09-14T10:48:03.260366Z",
     "shell.execute_reply.started": "2023-09-14T10:48:03.256112Z"
    },
    "tags": []
   },
   "outputs": [
    {
     "data": {
      "text/plain": [
       "(150, 5)"
      ]
     },
     "execution_count": 7,
     "metadata": {},
     "output_type": "execute_result"
    }
   ],
   "source": [
    "#transcripts_products_stage1.shape,transcripts_features_stage1.shape\n",
    "transcripts_features_WK36_Validated_stage1.shape"
   ]
  },
  {
   "cell_type": "markdown",
   "id": "e43eca05-795d-4ecf-9984-c168bbe35329",
   "metadata": {},
   "source": [
    "## CHAT"
   ]
  },
  {
   "cell_type": "code",
   "execution_count": 8,
   "id": "a49cbcb8-41f0-46c8-ab8c-f921cf6eb649",
   "metadata": {
    "execution": {
     "iopub.execute_input": "2023-09-14T10:48:07.137987Z",
     "iopub.status.busy": "2023-09-14T10:48:07.137345Z",
     "iopub.status.idle": "2023-09-14T10:48:07.176444Z",
     "shell.execute_reply": "2023-09-14T10:48:07.175704Z",
     "shell.execute_reply.started": "2023-09-14T10:48:07.137952Z"
    },
    "tags": []
   },
   "outputs": [],
   "source": [
    "_all_letters = string.ascii_letters + string.digits + string.punctuation + string.whitespace\n",
    "\n",
    "_flag1 = re.MULTILINE | re.DOTALL\n",
    "_flag2 = re.MULTILINE | re.DOTALL | re.IGNORECASE\n",
    "\n",
    "_placeholders = ['<transaction>', '<hashtag>', '<allcaps>', '<url>', '<smile>', '<lolface>', '<sadface>', '<neutralface>',\n",
    "                 '<heart>', '<repeat>', '<elong>', '<money>', '<date>', '<time>', '<number>', '<email>']\n",
    "\n",
    "_emoji_vocab = ['{:expressionless_face:}', '{:clown_face:}', '{:unamused_face:}', '{:face_with_tears_of_joy:}', '{:exploding_head:}',\n",
    "               '{:folded_hands:}', '{:smiling_face_with_smiling_eyes:}', '{:man_facepalming_medium_skin_tone:}', '{:woozy_face:}', '{:pleading_face:}',\n",
    "               '{:face_with_symbols_on_mouth:}', '{:fire:}', '{:loudly_crying_face:}', '{:face_with_rolling_eyes:}', '{:winking_face:}', '{:pouting_face:}',\n",
    "               '{:face_blowing_a_kiss:}', '{:thinking_face:}', '{:sad_but_relieved_face:}', '{:woman_facepalming:}', '{:rolling_on_the_floor_laughing:}',\n",
    "               '{:folded_hands_light_skin_tone:}', '{:grinning_face:}', '{:pensive_face:}', '{:', '{:angry_face:}', '{:thumbs_up:}', '{:copyright:}',\n",
    "               '{:credit_card:}', '{:downcast_face_with_sweat:}', '{:slightly_smiling_face:}', '{:raised_hand_dark_skin_tone:}', '{:confused_face:}',\n",
    "               '{:face_vomiting:}', '{:angry_face_with_horns:}', '{:persevering_face:}', '{:crying_face:}', '{:musical_notes:}', '{:nerd_face:}', '{:flushed_face:}',\n",
    "               '{:heart_suit:}', '{:disappointed_face:}', '{:woman_facepalming_light_skin_tone:}', '{:relieved_face:}', '{:man_shrugging:}', '{:black_heart:}',\n",
    "               '{:red_heart:}', '{:saudi_arabia:}', '{:face_with_steam_from_nose:}', '{:neutral_face:}', '{:thumbs_down:}', '{:man_shrugging_light_skin_tone:}',\n",
    "               '{:robot_face:}', '{:backhand_index_pointing_down:}', '{:person_facepalming:}', '{:person_shrugging:}', '{:frowning_face:}', '{:waving_hand:}',\n",
    "               '{:smiling_face:}', '{:beaming_face_with_smiling_eyes:}', '{:weary_face:}', '{:thumbs_up_light_skin_tone:}', '{:united_states:}',\n",
    "               '{:woman_shrugging_light_skin_tone:}', '{:wastebasket:}', '{:woman_shrugging_medium_skin_tone:}', '{:anguished_face:}', '{:hundred_points:}',\n",
    "               '{:flexed_biceps:}', '{:graduation_cap:}', '{:united_kingdom:}', '{:france:}', '{:man_shrugging_medium_skin_tone:}', '{:registered:}',\n",
    "               '{:sleeping_face:}', '{:ballot_box_with_check:}', '{:clapping_hands:}', '{:two_hearts:}', '{:sleepy_face:}', '{:laptop_computer:}',\n",
    "               '{:slightly_frowning_face:}', '{:worried_face:}', '{:face_screaming_in_fear:}', '{:smirking_face:}', '{:broken_heart:}', '{:index_pointing_up:}',\n",
    "               '{:middle_finger:}', '{:grinning_face_with_sweat:}', '{:folded_hands_medium_skin_tone:}', '{:money_bag:}', '{:blue_heart:}',\n",
    "               '{:smiling_face_with_sunglasses:}', '{:beating_heart:}', '{:backhand_index_pointing_right:}', '{:money_with_wings:}', '{:nauseated_face:}',\n",
    "               '{:face_with_medical_mask:}', '{:heavy_dollar_sign:}', '{:dollar_banknote:}', '{:party_popper:}', '{:sparkles:}', '{:man_facepalming:}',\n",
    "               '{:tired_face:}', '{:confounded_face:}', '{:kissing_face:}', '{:backhand_index_pointing_up_light_skin_tone:}', '{:tulip:}', '{:hugging_face:}',\n",
    "               '{:squinting_face_with_tongue:}', '{:shushing_face:}', '{:globe_showing_americas:}', '{:china:}', '{:eyes:}', '{:grimacing_face:}', '{:high_voltage:}',\n",
    "               '{:rocket:}', '{:cherry_blossom:}', '{:blossom:}', '{:bomb:}', '{:rose:}', '{:socks:}', '{:green_apple:}', '{:face_with_monocle:}',\n",
    "               '{:woman_shrugging:}', '{:skull:}', '{:man_facepalming_light_skin_tone:}', '{:woman_facepalming_medium_skin_tone:}', '{:victory_hand:}',\n",
    "               '{:grinning_face_with_smiling_eyes:}', '{:thumbs_down_medium_skin_tone:}', '{:backhand_index_pointing_up:}', '{:raised_fist_medium_skin_tone:}',\n",
    "               '{:sun_with_face:}', '{:purple_heart:}', '{:thumbs_down_light_skin_tone:}', '{:bottle_with_popping_cork:}', '{:pile_of_poo:}', '{:fearful_face:}',\n",
    "               '{:parrot:}', '{:dove:}', '{:index_pointing_up_light_skin_tone:}', '{:face_with_raised_eyebrow:}', '{:trade_mark:}',\n",
    "               '{:kissing_face_with_closed_eyes:}', '{:night_with_stars:}', '{:outbox_tray:}', '{:raising_hands_light_skin_tone:}', '{:female_sign:}',\n",
    "               '{:green_heart:}', '{:grinning_squinting_face:}', '{:scotland:}', '{:smiling_face_with_halo:}', '{:hourglass_done:}',\n",
    "               '{:man_raising_hand_light_skin_tone:}', '{:cooked_rice:}', '{:nepal:}', '{:smiling_face_with_<number>_hearts:}', '{:alien:}',\n",
    "               '{:anxious_face_with_sweat:}', '{:lying_face:}', '{:crossed_fingers:}', '{:middle_finger_dark_skin_tone:}', '{:unlocked:}',\n",
    "               '{:person_shrugging_light_skin_tone:}', '{:face_with_open_mouth:}', '{:partying_face:}', '{:yellow_heart:}', '{:handshake:}', '{:hushed_face:}',\n",
    "               '{:winking_face_with_tongue:}', '{:turkey:}', '{:hedgehog:}', '{:cactus:}', '{:woman_with_headscarf:}', '{:books:}', '{:bouquet:}', '{:memo:}',\n",
    "               '{:right_arrow_curving_down:}', '{:grinning_face_with_big_eyes:}', '{:germany:}', '{:jamaica:}', '{:thumbs_up_medium_skin_tone:}',\n",
    "               '{:person_raising_hand:}', '{:raising_hands:}', '{:index_pointing_up_dark_skin_tone:}', '{:stop_sign:}', '{:telephone:}',\n",
    "               '{:frowning_face_with_open_mouth:}', '{:chile:}', '{:person_facepalming_medium_skin_tone:}', '{:fox_face:}', '{:sneezing_face:}',\n",
    "               '{:folded_hands_dark_skin_tone:}', '{:star_of_david:}', '{:sunset:}', '{:myanmar_(burma):}', '{:victory_hand_light_skin_tone:}', '{:kiss_mark:}',\n",
    "               '{:white_heavy_check_mark:}', '{:house_with_garden:}', '{:face_without_mouth:}', '{:snowflake:}', '{:middle_finger_light_skin_tone:}',\n",
    "               '{:sparkling_heart:}', '{:face_with_thermometer:}', '{:ireland:}', '{:musical_score:}', '{:information:}', '{:llama:}', '{:prohibited:}',\n",
    "               '{:indonesia:}', '{:heart_with_arrow:}', '{:hot_face:}', '{:kissing_face_with_smiling_eyes:}', '{:nail_polish:}', '{:shopping_cart:}',\n",
    "               '{:thumbs_up_dark_skin_tone:}', '{:tumbler_glass:}', '{:white_medium_star:}', '{:exclamation_question_mark:}', '{:ox:}', '{:double_exclamation_mark:}',\n",
    "               '{:kenya:}', '{:speaking_head:}', '{:sign_of_the_horns_light_skin_tone:}', '{:face_with_hand_over_mouth:}', '{:comet:}', '{:cowboy_hat_face:}',\n",
    "               '{:warning:}', '{:bread:}', '{:melon:}', '{:peach:}', '{:roasted_sweet_potato:}', '{:ear_of_corn:}', '{:pineapple:}', '{:pizza:}', '{:tomato:}',\n",
    "               '{:watermelon:}', '{:meat_on_bone:}', '{:horse_racing:}', '{:oncoming_taxi:}', '{:oncoming_automobile:}', '{:articulated_lorry:}', '{:oncoming_bus:}',\n",
    "               '{:ophiuchus:}', '{:capricorn:}', '{:aries:}', '{:sagittarius:}', '{:spain:}', '{:colombia:}', '{:israel:}', '{:direct_hit:}', '{:call_me_hand:}',\n",
    "               '{:malaysia:}', '{:dizzy_face:}', '{:zany_face:}', '{:right_arrow:}', '{:alarm_clock:}', '{:red_circle:}', '{:question_mark:}',\n",
    "               '{:waving_hand_light_skin_tone:}', '{:mobile_phone:}', '{:drooling_face:}', '{:growing_heart:}', '{:bell:}', '{:world_map:}', '{:person_fencing:}',\n",
    "               '{:boxing_glove:}', '{:snowboarder:}', '{:<number>rd_place_medal:}', '{:sports_medal:}', '{:<number>nd_place_medal:}', '{:skier:}',\n",
    "               '{:<number>st_place_medal:}', '{:performing_arts:}', '{:ticket:}', '{:martial_arts_uniform:}', '{:raised_hand_medium_skin_tone:}',\n",
    "               '{:sign_of_the_horns:}', '{:backhand_index_pointing_up_dark_skin_tone:}', '{:backhand_index_pointing_left:}', '{:telephone_receiver:}', '{:rainbow:}',\n",
    "               '{:person_tipping_hand:}', '{:clapping_hands_light_skin_tone:}', '{:hibiscus:}', '{:victory_hand_medium_skin_tone:}', '{:snake:}',\n",
    "               '{:astonished_face:}', '{:envelope:}', '{:one_oclock:}', '{:love_letter:}', '{:skull_and_crossbones:}', '{:toilet:}', '{:australia:}', '{:italy:}',\n",
    "               '{:greece:}', '{:switzerland:}', '{:up_arrow:}', '{:right_arrow_curving_up:}', '{:waving_hand_medium_skin_tone:}', '{:thought_balloon:}',\n",
    "               '{:police_car_light:}', '{:person_playing_handball:}', '{:thumbs_down_dark_skin_tone:}', '{:desktop_computer:}', '{:keycap_digit_nine:}',\n",
    "               '{:heavy_plus_sign:}', '{:face_savoring_food:}', '{:new_moon_face:}', '{:cross_mark:}', '{:heavy_check_mark:}', '{:mouse_face:}',\n",
    "               '{:keycap_digit_one:}', '{:keycap_digit_two:}', '{:locked:}', '{:bank:}', '{:mobile_phone_with_arrow:}', '{:bookmark_tabs:}', '{:video_game:}',\n",
    "               '{:newspaper:}', '{:light_bulb:}', '{:revolving_hearts:}', '{:birthday_cake:}', '{:anger_symbol:}', '{:loudly_crying_face:}',\n",
    "               '{:japanese_bargain_button:}', '{:japanese_no_vacancy_button:}', '{:flexed_biceps_light_skin_tone:}',\n",
    "               '{:backhand_index_pointing_down_light_skin_tone:}', '{:cookie:}', '{:crying_cat_face:}', '{:wind_face:}', '{:balloon:}',\n",
    "               '{:clapping_hands_medium_skin_tone:}', '{:person_bowing:}', '{:bust_in_silhouette:}', '{:heart_with_ribbon:}', '{:sun:}', '{:white_small_square:}',\n",
    "               '{:backhand_index_pointing_right_medium_skin_tone:}', '{:pakistan:}', '{:volcano:}', '{:hot_beverage:}', '{:face_with_tongue:}', '{:uganda:}',\n",
    "               '{:oncoming_fist:}', '{:heavy_heart_exclamation:}', '{:collision:}', '{:goblin:}', '{:ogre:}', '{:lion_face:}', '{:pig_nose:}',\n",
    "               '{:raising_hands_dark_skin_tone:}', '{:pound_banknote:}', '{:euro_banknote:}', '{:clapping_hands_dark_skin_tone:}', '{:woman_artist:}',\n",
    "               '{:man_artist:}', '{:baby_symbol:}', '{:carp_streamer:}', '{:four_leaf_clover:}', '{:algeria:}', '{:argentina:}', '{:canada:}', '{:repeat_button:}',\n",
    "               '{:oncoming_fist_light_skin_tone:}', '{:philippines:}', '{:vulcan_salute_light_skin_tone:}', '{:glowing_star:}', '{:middle_finger_medium_skin_tone:}',\n",
    "               '{:headphone:}', '{:dog:}', '{:popcorn:}', '{:film_frames:}', '{:man_dancing:}', '{:swan:}', '{:moai:}', '{:person_rowing_boat:}',\n",
    "               '{:call_me_hand_medium_skin_tone:}', '{:litter_in_bin_sign:}', '{:raised_fist:}', '{:weary_cat_face:}', '{:exclamation_mark:}', '{:crown:}',\n",
    "               '{:small_orange_diamond:}', '{:red_triangle_pointed_up:}', '{:backhand_index_pointing_right_dark_skin_tone:}', '{:cat_face_with_tears_of_joy:}',\n",
    "               '{:snowman_without_snow:}', '{:snowman:}', '{:turtle:}', '{:broom:}', '{:waving_hand_dark_skin_tone:}', '{:fish:}', '{:maple_leaf:}',\n",
    "               '{:dashing_away:}', '{:trophy:}', '{:white_question_mark:}', '{:backhand_index_pointing_right_light_skin_tone:}', '{:rat:}', '{:butterfly:}',\n",
    "               '{:battery:}', '{:no_entry:}', '{:man_dancing_light_skin_tone:}', '{:sweat_droplets:}', '{:oman:}', '{:man_facepalming_dark_skin_tone:}',\n",
    "               '{:paintbrush:}', '{:mosquito:}', '{:lady_beetle:}', '{:cricket:}' '{:spider:}', '{:stopwatch:}', '{:orange_heart:}',\n",
    "               '{:person_facepalming_light_skin_tone:}', '{:saxophone:}', '{:trumpet:}', '{:b_button_(blood_type):}', '{:o_button_(blood_type):}',\n",
    "               '{:envelope_with_arrow:}', '{:smiling_face_with_horns:}', '{:malta:}', '{:sri_lanka:}', '{:oncoming_police_car:}', '{:two_oclock:}',\n",
    "               '{:woman_biking:}', '{:crossed_fingers_light_skin_tone:}', '{:baby_angel:}', '{:woman_raising_hand_light_skin_tone:}', '{:reminder_ribbon:}',\n",
    "               '{:military_medal:}', '{:heavy_large_circle:}', '{:south_africa:}', '{:down_arrow:}', '{:backhand_index_pointing_up_medium_skin_tone:}', '{:england:}',\n",
    "               '{:oncoming_fist_medium_skin_tone:}', '{:raised_hand:}', '{:nigeria:}', '{:horse:}', '{:pouting_cat_face:}', '{:hot_pepper:}', '{:person_frowning:}',\n",
    "               '{:man_tipping_hand_light_skin_tone:}', '{:man_detective:}', '{:bangladesh:}', '{:monkey:}', '{:two_men_holding_hands:}', '{:camera_with_flash:}',\n",
    "               '{:pistol:}', '{:play_button:}', '{:red_triangle_pointed_down:}', '{:palestinian_territories:}', '{:regional_indicator_symbol_letter_p:}',\n",
    "               '{:superhero:}', '{:male_sign:}', '{:raised_fist_dark_skin_tone:}', '{:cat_face_with_wry_smile:}', '{:eye:}', '{:cambodia:}', '{:clinking_beer_mugs:}',\n",
    "               '{:goat:}', '{:link:}', '{:sunflower:}', '{:iraq:}', '{:baseball:}', '{:fireworks:}', '{:no_mobile_phones:}', '{:watch:}', '{:locked_with_key:}',\n",
    "               '{:speaker_high_volume:}', '{:ghana:}', '{:ant:}', '{:wrapped_gift:}', '{:foot:}', '{:gorilla:}', '{:new_moon:}', '{:receipt:}', '{:zimbabwe:}',\n",
    "               '{:floppy_disk:}', '{:crossed_fingers_medium_skin_tone:}', '{:woman_dancing:}', '{:ear:}', '{:wheelchair_symbol:}', '{:man_walking_medium_skin_tone:}',\n",
    "               '{:grinning_cat_face_with_smiling_eyes:}', '{:peace_symbol:}', '{:person_walking:}', '{:confetti_ball:}', '{:television:}', '{:kitchen_knife:}',\n",
    "               '{:water_wave:}', '{:trinidad_&_tobago:}', '{:cloud:}', '{:senegal:}', '{:hand_with_fingers_splayed_light_skin_tone:}',\n",
    "               '{:person_tipping_hand_light_skin_tone:}', '{:croatia:}', '{:grinning_cat_face:}', '{:hatching_chick:}', '{:raised_back_of_hand:}',\n",
    "               '{:chequered_flag:}']\n",
    "emoji_vocab = list(set(_emoji_vocab))\n",
    "\n",
    "special_tokens = list(set(_emoji_vocab + _placeholders))\n",
    "\n",
    "def _re_sub(_pattern, _repl, _text, _flag):\n",
    "    return re.sub(_pattern, _repl, _text, flags=_flag)\n",
    "\n",
    "\n",
    "def _glove_preprocessing(_text):\n",
    "    # _FLAGS = re.MULTILINE | re.DOTALL\n",
    "    def hashtag(_text):\n",
    "        _text = _text.group()\n",
    "        hashtag_body = _text[1:]\n",
    "        if hashtag_body.isupper():\n",
    "            result = \" <hashtag> {} <allcaps> \".format(hashtag_body)\n",
    "        else:\n",
    "            result = \" \".join([\" <hashtag> \"] + re.split(r\"(?=[A-Z])\", hashtag_body, flags=_flag1))\n",
    "        return result\n",
    "\n",
    "    def allcaps(_text):\n",
    "        _text = _text.group()\n",
    "        return _text.lower() + \" <allcaps> \"\n",
    "\n",
    "    eyes = r\"[8:=;]\"\n",
    "    nose = r\"['`\\-]?\"\n",
    "    _text = _re_sub(r\"https?:\\/\\/\\S+\\b|www\\.(\\w+\\.)+\\S*\", \" <url> \", _text, _flag2)\n",
    "    _text = _re_sub(r\"/\", \" / \", _text, _flag2)\n",
    "    _text = _re_sub(r\"@\\w+\", \" <user> \", _text, _flag2)\n",
    "    _text = _re_sub(r\"{}[\\s+]?{}[\\s+]?[)dD](\\b)+|[)dD]+{}{}(\\b)\".format(eyes, nose, nose, eyes), \" <smile> \", _text, _flag2)\n",
    "    _text = _re_sub(r\"{}[\\s+]?{}p+(\\b)\".format(eyes, nose), \" <lolface> \", _text, _flag2)\n",
    "    _text = _re_sub(r\"{}[\\s+]?{}\\((\\b)+|\\)+{}[\\s+]?{}(\\b)\".format(eyes, nose, nose, eyes), \" <sadface> \", _text, _flag2)\n",
    "    _text = _re_sub(r\"{}[\\s+]?{}[\\/|l*](\\b)\".format(eyes, nose), \" <neutralface> \", _text, _flag2)\n",
    "    _text = _re_sub(r\"<3(\\b)\", \" <heart> \", _text, _flag2)\n",
    "    try:\n",
    "        _text = _re_sub(r\"#\\S+\", hashtag, _text, _flag1)\n",
    "    except:\n",
    "        pass\n",
    "    _text = _re_sub(r\"(['!?.]){2,}\", r\"\\1 <repeat> \", _text, _flag2)\n",
    "    _text = _re_sub(r\"(\\S*?)([a-z\\.\\-\\+!@#$%\\^&*()~,\\?\\:|])\\2{3,}\", r\"\\1\\2 <elong> \", _text, _flag2)\n",
    "    _text = _re_sub(r\"([A-Z]){2,}[^'\\*]\", allcaps, _text, _flag1)\n",
    "    return _text\n",
    "\n",
    "\n",
    "def _unicode_emoji_process(matched):\n",
    "    emo = matched.group()\n",
    "    emo_al = emoji.demojize(emo)\n",
    "    return '{' + emo_al + '}' + ' '\n",
    "\n",
    "\n",
    "def _unicode_to_ascii(s):\n",
    "    s = str(s)\n",
    "    return ''.join(\n",
    "        c for c in unicodedata.normalize('NFD', s) if unicodedata.category(c) != 'Mn' and c in _all_letters\n",
    "    )\n",
    "\n",
    "\n",
    "def _strip_hmtl_tags(s):\n",
    "    _removed = BeautifulSoup(s, 'html.parser').get_text().strip()\n",
    "    return _removed\n",
    "\n",
    "\n",
    "def _replace_currency(_text):\n",
    "    _text = _re_sub(r'(^|\\b|\\s)[$€£¥]{1}[0-9,]+(?:\\.[0-9]+)?\\b', \" <money> \", _text, _flag2)\n",
    "    return _text\n",
    "\n",
    "\n",
    "def _process_transaction_text_GB(_text):\n",
    "    if 'transactionText' in _text:\n",
    "        _text = _re_sub(r'transactionText[:\\s]{1}[*|0-9A-Z|£\\s.,]+', \" <transaction> \", _text, _flag2)\n",
    "\n",
    "    return _text\n",
    "\n",
    "\n",
    "def _replace_datetime(_text):\n",
    "    # dd-mm-yyyy\n",
    "    date_patten_1 = r'\\b\\d\\s*(?:Jan|January|Feb|February|Mar|March|Apr|April|May|May|Jun|June|Jul|July|Aug|August|Sep|September|Oct|October|Nov|November|Dec|December)\\s*\\d{4}\\b'\n",
    "    date_patten_2 = r'\\d{1,2}\\s*[/-]\\s*\\d{1,2}\\s*[/-]\\s*\\d{2,4}' # 01/11/2011 01-02-2011 01/11/22\n",
    "    date_patten_3 = r'\\d{1,2}\\s*[/-]\\s*\\d{1,2}\\s*[/-]\\s*\\d{2,4}' # 01/11/2011 01-02-2011 01/11/22\n",
    "    time_patten = r'\\b\\d{1,2}\\s*\\:\\d{1,2}\\s*(?:am|pm)?'\n",
    "    _text = _re_sub(date_patten_1, \" <date> \", _text, _flag2)\n",
    "    _text = _re_sub(date_patten_2, \" <date> \", _text, _flag2)\n",
    "    _text = _re_sub(time_patten, \" <time> \", _text, _flag2)\n",
    "    return _text\n",
    "\n",
    "\n",
    "def _replace_numbers(_text):\n",
    "    _num_patten1 = r'\\d+\\s*[-/,.]{1}\\s*\\d+'\n",
    "    _num_patten2 = r'\\d+'\n",
    "    _text = _re_sub(_num_patten1, \" <number> \", _text, _flag2)# 23-23 12/23 1,234 0.23 2323\n",
    "    _text = _re_sub(_num_patten2, \" <number> \", _text, _flag2)# 23-23 12/23 1,234 0.23 2323\n",
    "    return _text\n",
    "\n",
    "\n",
    "def _replace_email(_text):\n",
    "    # _email_patten = r'(?:(\\s|$|\\b))[a-zA-Z0-9_\\.]+@[a-zA-Z0-9.]+(com)'\n",
    "    _email_patten = r'\\S+@\\S+'\n",
    "    _text = _re_sub(_email_patten, \" <email> \", _text, _flag2)\n",
    "    return _text\n",
    "\n",
    "\n",
    "def preprocess_text(_input):\n",
    "    _content = _strip_hmtl_tags(_input)\n",
    "    _content = _process_transaction_text_GB(_content)\n",
    "    _content = _replace_email(_content)\n",
    "    _content = _glove_preprocessing(_content)\n",
    "    _content = emoji.demojize(_content, delimiters=(\"{:\", \":}\"))\n",
    "    _content = _replace_currency(_content)\n",
    "    _content = _replace_datetime(_content)\n",
    "    _content = _replace_numbers(_content)\n",
    "    _content = _unicode_to_ascii(_content)\n",
    "    return _content"
   ]
  },
  {
   "cell_type": "code",
   "execution_count": 9,
   "id": "a058925b-d1d3-4358-a370-54aa667e9cc9",
   "metadata": {
    "execution": {
     "iopub.execute_input": "2023-09-14T10:48:07.213278Z",
     "iopub.status.busy": "2023-09-14T10:48:07.212533Z",
     "iopub.status.idle": "2023-09-14T10:48:07.223757Z",
     "shell.execute_reply": "2023-09-14T10:48:07.222921Z",
     "shell.execute_reply.started": "2023-09-14T10:48:07.213247Z"
    },
    "tags": []
   },
   "outputs": [],
   "source": [
    "CLS_TOKEN = \"<s> \"\n",
    "SEP_TOKEN = \"</s>\"\n",
    "def process_raw_text(_input_text):\n",
    "    '''\n",
    "    this function helps in preprocessing the text - same from identification pipeline\n",
    "    input_data: str\n",
    "    :return: str\n",
    "    '''    \n",
    "    def __text_process(_line):\n",
    "        lst_sentence = sent_tokenize(fix_text(_line))\n",
    "        lst_sentence_prc = map(lambda sen: preprocess_text(sen), lst_sentence)\n",
    "        lst_sentence_prc = [sen.strip() for sen in lst_sentence_prc]\n",
    "        lst_sentence_prc = [sent for sent in lst_sentence_prc if len(sent) > 0]\n",
    "        return ' '.join(lst_sentence_prc)\n",
    "\n",
    "    def __get_sender(_sender_str):\n",
    "        _sender = ''\n",
    "        if _sender_str.lower() == 'customer':\n",
    "            _sender = 'CLIENT'\n",
    "        elif _sender_str.lower() == 'agent':\n",
    "            _sender = 'AGENT'\n",
    "        elif _sender_str.lower() == 'bot' or _sender_str.lower() == 'external' or _sender_str.lower() == 'system':\n",
    "            _sender = 'BOT'\n",
    "        return _sender\n",
    "\n",
    "    lines = _input_text.split('\\t')\n",
    "    lines = [l_.strip() for l_ in lines if l_.strip() != '']\n",
    "    # Customer:, Agent:\n",
    "    proc_lines = []\n",
    "    for l_idx, l_ in enumerate(lines):\n",
    "        # l_ = l_[14:] # remove pre-fixed time stamp\n",
    "        _s_idx = l_.find(':')\n",
    "        assert _s_idx > 0\n",
    "        sender_str = l_[0: _s_idx].lower()\n",
    "        content = l_[_s_idx+1:].strip()\n",
    "        assert sender_str in ['customer', 'agent', 'bot', 'external', 'system','unknown','auto agent'], \"The sender %s not found\" %sender_str\n",
    "        sender = __get_sender(sender_str)\n",
    "        l_preprocessed = __text_process(content)\n",
    "        if len(l_preprocessed.split()) > 0:\n",
    "            proc_lines.append([sender, l_preprocessed])\n",
    "\n",
    "    # combine same consecutive senders\n",
    "    combined_posts = []\n",
    "    if len(proc_lines) == 0:\n",
    "        logging.info(\"Empty Input len of proc lines are zero\")\n",
    "        #pdb.set_trace()\n",
    "        return CLS_TOKEN + \" \" + SEP_TOKEN\n",
    "\n",
    "    try:\n",
    "        proc_lines = CLS_TOKEN + ' '.join(list(map(lambda line: '{}: {} {}'.format(line[0], ' '.join(line[1].split()), SEP_TOKEN),proc_lines)))\n",
    "    except:\n",
    "        return \"empty database\"\n",
    "    return proc_lines"
   ]
  },
  {
   "cell_type": "code",
   "execution_count": 10,
   "id": "062b56b1-49a5-4998-b0ee-6b3a81f3c289",
   "metadata": {
    "execution": {
     "iopub.execute_input": "2023-09-14T10:48:29.132988Z",
     "iopub.status.busy": "2023-09-14T10:48:29.131961Z",
     "iopub.status.idle": "2023-09-14T10:48:29.140203Z",
     "shell.execute_reply": "2023-09-14T10:48:29.139475Z",
     "shell.execute_reply.started": "2023-09-14T10:48:29.132948Z"
    },
    "tags": []
   },
   "outputs": [
    {
     "data": {
      "text/plain": [
       "(70, 5)"
      ]
     },
     "execution_count": 10,
     "metadata": {},
     "output_type": "execute_result"
    }
   ],
   "source": [
    "transcripts_features_WK36_Validated_stage1_chat=transcripts_features_WK36_Validated_stage1[transcripts_features_WK36_Validated_stage1['media_type']=='chat'].reset_index(drop=True)\n",
    "transcripts_features_WK36_Validated_stage1_chat.shape"
   ]
  },
  {
   "cell_type": "code",
   "execution_count": 11,
   "id": "e3589d79-f989-4808-b354-bd61b30fc751",
   "metadata": {
    "execution": {
     "iopub.execute_input": "2023-09-14T10:48:45.136411Z",
     "iopub.status.busy": "2023-09-14T10:48:45.135345Z",
     "iopub.status.idle": "2023-09-14T10:48:47.134855Z",
     "shell.execute_reply": "2023-09-14T10:48:47.134092Z",
     "shell.execute_reply.started": "2023-09-14T10:48:45.136370Z"
    },
    "tags": []
   },
   "outputs": [
    {
     "name": "stderr",
     "output_type": "stream",
     "text": [
      "100%|██████████| 70/70 [00:01<00:00, 35.20it/s]\n"
     ]
    }
   ],
   "source": [
    "transcripts_features_WK36_Validated_stage1_chat['all_utterances_proc'] = transcripts_features_WK36_Validated_stage1_chat['all_utterances']\n",
    "transcripts_features_WK36_Validated_stage1_chat['all_utterances_proc'] = transcripts_features_WK36_Validated_stage1_chat['all_utterances_proc'].progress_apply(process_raw_text)\n"
   ]
  },
  {
   "cell_type": "code",
   "execution_count": 1,
   "id": "79a083e9-b2f2-4bf3-9eef-2968972701eb",
   "metadata": {
    "execution": {
     "iopub.execute_input": "2023-09-14T10:20:31.369403Z",
     "iopub.status.busy": "2023-09-14T10:20:31.364929Z",
     "iopub.status.idle": "2023-09-14T10:20:31.382025Z",
     "shell.execute_reply": "2023-09-14T10:20:31.380938Z",
     "shell.execute_reply.started": "2023-09-14T10:20:31.369289Z"
    },
    "tags": []
   },
   "outputs": [],
   "source": [
    "#transcripts_features_WK34_Validated_stage1_chat.tail()"
   ]
  },
  {
   "cell_type": "code",
   "execution_count": 12,
   "id": "8512f4a6-76b3-4a04-8a32-a1d3309a81c6",
   "metadata": {
    "execution": {
     "iopub.execute_input": "2023-09-14T10:49:03.133468Z",
     "iopub.status.busy": "2023-09-14T10:49:03.132601Z",
     "iopub.status.idle": "2023-09-14T10:49:03.159238Z",
     "shell.execute_reply": "2023-09-14T10:49:03.158486Z",
     "shell.execute_reply.started": "2023-09-14T10:49:03.133423Z"
    },
    "tags": []
   },
   "outputs": [],
   "source": [
    "transcripts_features_WK36_Validated_stage1_chat.to_csv('transcripts_features_WK36_Validated_stage1_chat.csv',index=False)"
   ]
  },
  {
   "cell_type": "code",
   "execution_count": null,
   "id": "7e8a2b54-9a37-46a4-a2d1-2c4cdc85ebe3",
   "metadata": {},
   "outputs": [],
   "source": []
  },
  {
   "cell_type": "code",
   "execution_count": null,
   "id": "b9afc622-728d-41d0-912e-6aa118b1138a",
   "metadata": {},
   "outputs": [],
   "source": []
  },
  {
   "cell_type": "code",
   "execution_count": null,
   "id": "c3c36644-15ad-4bcc-9783-5b46e67d3e72",
   "metadata": {},
   "outputs": [],
   "source": []
  },
  {
   "cell_type": "code",
   "execution_count": null,
   "id": "38f2e75b-6fad-46e8-9c49-3dc638851941",
   "metadata": {},
   "outputs": [],
   "source": []
  },
  {
   "cell_type": "code",
   "execution_count": null,
   "id": "31d1f2de-487c-4cfb-9b03-242162f70214",
   "metadata": {},
   "outputs": [],
   "source": []
  }
 ],
 "metadata": {
  "kernelspec": {
   "display_name": "Python 3 (ipykernel)",
   "language": "python",
   "name": "python3"
  },
  "language_info": {
   "codemirror_mode": {
    "name": "ipython",
    "version": 3
   },
   "file_extension": ".py",
   "mimetype": "text/x-python",
   "name": "python",
   "nbconvert_exporter": "python",
   "pygments_lexer": "ipython3",
   "version": "3.7.16"
  }
 },
 "nbformat": 4,
 "nbformat_minor": 5
}
