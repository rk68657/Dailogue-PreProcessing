{
 "cells": [
  {
   "cell_type": "code",
   "execution_count": 2,
   "id": "00f4fffe-af4f-45ea-a401-74ef7895be03",
   "metadata": {
    "execution": {
     "iopub.execute_input": "2023-09-14T10:51:17.133141Z",
     "iopub.status.busy": "2023-09-14T10:51:17.132232Z",
     "iopub.status.idle": "2023-09-14T10:51:17.148394Z",
     "shell.execute_reply": "2023-09-14T10:51:17.147583Z",
     "shell.execute_reply.started": "2023-09-14T10:51:17.133101Z"
    },
    "tags": []
   },
   "outputs": [],
   "source": [
    "import pandas as pd\n",
    "import numpy as np\n",
    "import os\n",
    "import re\n",
    "import ast\n",
    "%config PPMagics.autolimit=0\n",
    "pd.set_option('display.max_columns', None)\n",
    "pd.set_option('display.max_rows', None)\n",
    "pd.set_option('display.max_colwidth', None)\n",
    "pd.set_option('display.max_columns', None)\n",
    "pd.set_option('display.max_rows', None)\n"
   ]
  },
  {
   "cell_type": "code",
   "execution_count": 3,
   "id": "6a63f1e4-d5d3-466a-b7dd-61aeb788cfa1",
   "metadata": {
    "execution": {
     "iopub.execute_input": "2023-09-14T10:51:17.150229Z",
     "iopub.status.busy": "2023-09-14T10:51:17.149854Z",
     "iopub.status.idle": "2023-09-14T10:51:17.218230Z",
     "shell.execute_reply": "2023-09-14T10:51:17.217530Z",
     "shell.execute_reply.started": "2023-09-14T10:51:17.150202Z"
    },
    "tags": []
   },
   "outputs": [
    {
     "data": {
      "text/plain": [
       "(150, 5)"
      ]
     },
     "execution_count": 3,
     "metadata": {},
     "output_type": "execute_result"
    }
   ],
   "source": [
    "transcripts_features_WK36_Validated_stage1=pd.read_csv('dailogues_week2crypto_validated.csv')\n",
    "transcripts_features_WK36_Validated_stage1.shape"
   ]
  },
  {
   "cell_type": "markdown",
   "id": "e43eca05-795d-4ecf-9984-c168bbe35329",
   "metadata": {},
   "source": [
    "## EMAIL"
   ]
  },
  {
   "cell_type": "code",
   "execution_count": 4,
   "id": "a058925b-d1d3-4358-a370-54aa667e9cc9",
   "metadata": {
    "execution": {
     "iopub.execute_input": "2023-09-14T10:51:19.131267Z",
     "iopub.status.busy": "2023-09-14T10:51:19.130252Z",
     "iopub.status.idle": "2023-09-14T10:51:19.173380Z",
     "shell.execute_reply": "2023-09-14T10:51:19.172617Z",
     "shell.execute_reply.started": "2023-09-14T10:51:19.131231Z"
    },
    "tags": []
   },
   "outputs": [],
   "source": [
    "import regex as re\n",
    "from bs4 import BeautifulSoup as soup\n",
    "\n",
    "SEP_TOKEN = \"</s>\"\n",
    "\n",
    "def process_email_raw_text(raw_content):\n",
    "    raw_content = raw_content.lower()\n",
    "    line = raw_content.strip()\n",
    "    html_text = soup(line, 'html.parser')  # clean html tags\n",
    "    line = html_text.get_text()  # grab text from soup object\n",
    "    line = re.sub(r'[A-Za-z0-9.]*@[A-Za-z]*\\.?[A-Za-z0-9]*', '', line)\n",
    "    line = re.sub('[0-9\\n]', ' ', line)  # remove number characters\n",
    "    line = re.sub('<[^<]+?>', '', line)  # remove white space\n",
    "    line = re.sub(r'(-)+', '', line)  # remove hyphen\n",
    "    #print(\"sub end\")\n",
    "    line = line.replace('.',\" SEPTOKEN\")\n",
    "    line = line.replace('!',\" SEPTOKEN\")\n",
    "    line = line.replace('?',\" SEPTOKEN\")\n",
    "    #print(\"sub start 2\")\n",
    "    line = re.sub(\"[^-9A-Za-z ]\", \" \", line)  # remove punctuation\n",
    "    line = re.sub(' +', ' ', line)  # remove blanks\n",
    "    line = line.replace('SEPTOKEN', SEP_TOKEN)\n",
    "    return line"
   ]
  },
  {
   "cell_type": "code",
   "execution_count": 5,
   "id": "2095be6b-f44f-4899-865e-373cb2a643f1",
   "metadata": {
    "execution": {
     "iopub.execute_input": "2023-09-14T10:51:49.132934Z",
     "iopub.status.busy": "2023-09-14T10:51:49.132151Z",
     "iopub.status.idle": "2023-09-14T10:51:49.142399Z",
     "shell.execute_reply": "2023-09-14T10:51:49.141661Z",
     "shell.execute_reply.started": "2023-09-14T10:51:49.132898Z"
    },
    "tags": []
   },
   "outputs": [
    {
     "data": {
      "text/plain": [
       "(30, 5)"
      ]
     },
     "execution_count": 5,
     "metadata": {},
     "output_type": "execute_result"
    }
   ],
   "source": [
    "transcripts_features_WK36_Validated_stage1_email=transcripts_features_WK36_Validated_stage1[transcripts_features_WK36_Validated_stage1['media_type']=='email'].reset_index(drop=True)\n",
    "transcripts_features_WK36_Validated_stage1_email.shape"
   ]
  },
  {
   "cell_type": "code",
   "execution_count": 6,
   "id": "319cbd67-9cb0-445f-822a-f855f56dfab9",
   "metadata": {
    "execution": {
     "iopub.execute_input": "2023-09-14T10:52:19.134246Z",
     "iopub.status.busy": "2023-09-14T10:52:19.133475Z",
     "iopub.status.idle": "2023-09-14T10:52:19.172708Z",
     "shell.execute_reply": "2023-09-14T10:52:19.171906Z",
     "shell.execute_reply.started": "2023-09-14T10:52:19.134210Z"
    },
    "tags": []
   },
   "outputs": [
    {
     "data": {
      "text/plain": [
       "(30, 6)"
      ]
     },
     "execution_count": 6,
     "metadata": {},
     "output_type": "execute_result"
    }
   ],
   "source": [
    "transcripts_features_WK36_Validated_stage1_email['all_utterances_proc'] = transcripts_features_WK36_Validated_stage1_email['all_utterances']\n",
    "transcripts_features_WK36_Validated_stage1_email['all_utterances_proc'] = transcripts_features_WK36_Validated_stage1_email['all_utterances_proc'].apply(process_email_raw_text)\n",
    "transcripts_features_WK36_Validated_stage1_email.shape"
   ]
  },
  {
   "cell_type": "code",
   "execution_count": 7,
   "id": "a22af3f9-6e3a-4205-b160-b7c974e07759",
   "metadata": {
    "execution": {
     "iopub.execute_input": "2023-09-14T10:52:29.144465Z",
     "iopub.status.busy": "2023-09-14T10:52:29.143543Z",
     "iopub.status.idle": "2023-09-14T10:52:29.162564Z",
     "shell.execute_reply": "2023-09-14T10:52:29.161617Z",
     "shell.execute_reply.started": "2023-09-14T10:52:29.144427Z"
    },
    "tags": []
   },
   "outputs": [],
   "source": [
    "transcripts_features_WK36_Validated_stage1_email.to_csv('transcripts_features_WK36_Validated_stage1_email.csv',index=False)\n"
   ]
  },
  {
   "cell_type": "code",
   "execution_count": 1,
   "id": "0517499b-9f08-4046-886e-afcce5723a32",
   "metadata": {
    "execution": {
     "iopub.execute_input": "2023-09-14T10:27:53.082086Z",
     "iopub.status.busy": "2023-09-14T10:27:53.081060Z",
     "iopub.status.idle": "2023-09-14T10:27:53.086712Z",
     "shell.execute_reply": "2023-09-14T10:27:53.085970Z",
     "shell.execute_reply.started": "2023-09-14T10:27:53.082049Z"
    },
    "tags": []
   },
   "outputs": [],
   "source": [
    "#transcripts_features_stage1_email.head(1)[['all_utterances','all_utterances_proc','Case_ID']]"
   ]
  },
  {
   "cell_type": "code",
   "execution_count": null,
   "id": "18b7f030-249a-40b5-9963-c865b2c3ef0b",
   "metadata": {},
   "outputs": [],
   "source": []
  }
 ],
 "metadata": {
  "kernelspec": {
   "display_name": "Python 3 (ipykernel)",
   "language": "python",
   "name": "python3"
  },
  "language_info": {
   "codemirror_mode": {
    "name": "ipython",
    "version": 3
   },
   "file_extension": ".py",
   "mimetype": "text/x-python",
   "name": "python",
   "nbconvert_exporter": "python",
   "pygments_lexer": "ipython3",
   "version": "3.8.13"
  }
 },
 "nbformat": 4,
 "nbformat_minor": 5
}
