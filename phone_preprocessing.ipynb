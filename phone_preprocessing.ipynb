{
 "cells": [
  {
   "cell_type": "code",
   "execution_count": 1,
   "id": "00f4fffe-af4f-45ea-a401-74ef7895be03",
   "metadata": {
    "execution": {
     "iopub.execute_input": "2023-10-11T08:34:43.485235Z",
     "iopub.status.busy": "2023-10-11T08:34:43.484338Z",
     "iopub.status.idle": "2023-10-11T08:34:43.496052Z",
     "shell.execute_reply": "2023-10-11T08:34:43.495394Z",
     "shell.execute_reply.started": "2023-10-11T08:34:43.485196Z"
    },
    "tags": []
   },
   "outputs": [],
   "source": [
    "import pandas as pd\n",
    "import numpy as np\n",
    "import os\n",
    "import re\n",
    "import ast\n",
    "%config PPMagics.autolimit=0\n",
    "pd.set_option('display.max_columns', None)\n",
    "pd.set_option('display.max_rows', None)\n",
    "pd.set_option('display.max_colwidth', None)\n",
    "pd.set_option('display.max_columns', None)\n",
    "pd.set_option('display.max_rows', None)\n"
   ]
  },
  {
   "cell_type": "code",
   "execution_count": null,
   "id": "0873b770-6538-4af0-bb24-28ae764595c7",
   "metadata": {
    "tags": []
   },
   "outputs": [],
   "source": []
  },
  {
   "cell_type": "code",
   "execution_count": 2,
   "id": "70d29359-8484-462c-bdde-b2ede92fb069",
   "metadata": {
    "execution": {
     "iopub.execute_input": "2023-10-11T08:34:44.613345Z",
     "iopub.status.busy": "2023-10-11T08:34:44.612712Z",
     "iopub.status.idle": "2023-10-11T08:34:44.674891Z",
     "shell.execute_reply": "2023-10-11T08:34:44.674097Z",
     "shell.execute_reply.started": "2023-10-11T08:34:44.613316Z"
    },
    "tags": []
   },
   "outputs": [
    {
     "data": {
      "text/plain": [
       "(945, 5)"
      ]
     },
     "execution_count": 2,
     "metadata": {},
     "output_type": "execute_result"
    }
   ],
   "source": [
    "transcripts_features_WK36_Validated_stage1 = pd.read_csv('dailogue_savings_products_1000.csv')\n",
    "transcripts_features_WK36_Validated_stage1.shape"
   ]
  },
  {
   "cell_type": "markdown",
   "id": "e43eca05-795d-4ecf-9984-c168bbe35329",
   "metadata": {},
   "source": [
    "## phone"
   ]
  },
  {
   "cell_type": "code",
   "execution_count": 3,
   "id": "a49cbcb8-41f0-46c8-ab8c-f921cf6eb649",
   "metadata": {
    "execution": {
     "iopub.execute_input": "2023-10-11T08:34:45.530204Z",
     "iopub.status.busy": "2023-10-11T08:34:45.529631Z",
     "iopub.status.idle": "2023-10-11T08:34:45.541062Z",
     "shell.execute_reply": "2023-10-11T08:34:45.540444Z",
     "shell.execute_reply.started": "2023-10-11T08:34:45.530176Z"
    },
    "tags": []
   },
   "outputs": [],
   "source": [
    "import re\n",
    "\n",
    "NUMBER_WORDS = [\"one\", \"two\", \"three\", \"four\", \"five\", \"six\", \"seven\", \"eight\", \"nine\", \"ten\",  # units\n",
    "                \"eleven\", \"twelve\", \"thirteen\", \"fourteen\", \"fifteen\", \"sixteen\", \"seventeen\", \"eighteen\", \"nineteen\",\n",
    "                \"twenty\", \"thirty\", \"forty\", \"fifty\", \"sixty\", \"seventy\", \"eighty\", \"ninety\",  # tens\n",
    "                \"hundred\", \"thousand\", \"million\", \"billion\", \"trillion\",\n",
    "                \"single\", \"double\", \"triple\", \"quadruple\", \"quintuple\", \"sextuple\", \"septuple\", \"octuple\", \"nonuple\",\n",
    "                \"decuple\"]\n",
    "\n",
    "CURRENCY_WORDS = [\"cents\", \"dollars\", \"pound\", \"quid\"]\n",
    "\n",
    "PAUSE_IDENTIFIER = \"[pause]\"\n",
    "SCRUB_IDENTIFIER = \"[scrub]\"\n",
    "\n",
    "# Reference: https://huggingface.co/transformers/model_doc/longformer.html#transformers.LongformerTokenizer ,\n",
    "# https://huggingface.co/transformers/model_doc/roberta.html#transformers.RobertaTokenizer\n",
    "SEP_TOKEN = \"</s>\"\n",
    "CLS_TOKEN = \"<s>\"\n",
    "\n",
    "\n",
    "def process_voice_raw_text(raw_text, minimial=False):\n",
    "    raw_text = str(raw_text).lower()\n",
    "    raw_text = raw_text.replace(\"\\\"\", \"\")  # sometimes conversations are quoted in old scrubbed data\n",
    "    sender_idxes = [m.span() for m in re.finditer(r'(agent:)|(customer:)|(unknown:)', raw_text)]\n",
    "\n",
    "    # break into senders\n",
    "    parsed_content = _separate_senders(sender_idxes, raw_text, minimial)\n",
    "    return CLS_TOKEN + \" \" + (\" \" + SEP_TOKEN + \" \").join(parsed_content) + \" \" + SEP_TOKEN\n",
    "\n",
    "def _separate_senders(sender_idxes, raw_text, minimial):\n",
    "    parsed_content = []\n",
    "    for idx, (std, end) in enumerate(sender_idxes):\n",
    "        sender = raw_text[std: end]\n",
    "        c_std = end + 1\n",
    "        c_end = sender_idxes[idx + 1][0] if idx < len(sender_idxes) - 1 else -1\n",
    "        sender_content = raw_text[c_std:c_end] if c_end > 0 else raw_text[c_std:]\n",
    "        sender_content = _voice_pre_process(sender_content, minimial).rstrip()\n",
    "        parsed_content.append(\" \".join([sender.upper(), sender_content]))\n",
    "    return parsed_content\n",
    "\n",
    "def _voice_pre_process(sub_sentence, minimial=False):\n",
    "    # replace all digits\n",
    "    digit_regex = re.compile(r'\\b%s\\b' % r'\\b|\\b'.join(map(re.escape, NUMBER_WORDS)))\n",
    "    sub_sentence = digit_regex.sub(\"[digit]\", sub_sentence)\n",
    "    sub_sentence = re.sub(r'(?:\\[digit\\]\\s*)*\\[digit\\]', '[digit]', sub_sentence)\n",
    "\n",
    "    if not minimial:\n",
    "        # voice separators\n",
    "        sub_sentence = re.sub(r'[#]+', '[scrub]', sub_sentence)\n",
    "        sub_sentence = re.sub(r'[.]+', PAUSE_IDENTIFIER, sub_sentence)\n",
    "\n",
    "        # remove \\t as these are present in old formats.\n",
    "        sub_sentence = re.sub(r'<split>', ' ', sub_sentence)\n",
    "\n",
    "        # remove repeated spaces\n",
    "        sub_sentence.replace(\"  \", \" \")\n",
    "\n",
    "        # replace money, avoid since money can have country info.\n",
    "        # sub_sentence = re.sub(r'\\[digit\\]\\s*(quid|dollars)', '[money]', sub_sentence)\n",
    "\n",
    "        # replace duplicated trigrams\n",
    "        sub_sentence = re.sub(r'\\b(\\w+)\\b\\s*(\\w+)\\b\\s*(\\w+)(( \\1\\b)( \\2\\b)( \\3\\b))+', r'\\1 \\2 \\3 [tri-gram-repeat]', sub_sentence)\n",
    "\n",
    "        # replace duplicated bigrams\n",
    "        sub_sentence = re.sub(r'\\b(\\w+)\\b\\s*(\\w+)(( \\1\\b)( \\2\\b))+', r'\\1 \\2 [bi-gram-repeat]', sub_sentence)\n",
    "\n",
    "        # replace duplicated words\n",
    "        sub_sentence = re.sub(r'\\b(\\w+)( \\1\\b)+', r'\\1 [repeat]', sub_sentence)\n",
    "    return sub_sentence"
   ]
  },
  {
   "cell_type": "code",
   "execution_count": 4,
   "id": "111662a0-dc45-494a-97dd-ad48677861bc",
   "metadata": {
    "execution": {
     "iopub.execute_input": "2023-10-11T08:34:45.966963Z",
     "iopub.status.busy": "2023-10-11T08:34:45.966471Z",
     "iopub.status.idle": "2023-10-11T08:34:45.973098Z",
     "shell.execute_reply": "2023-10-11T08:34:45.972554Z",
     "shell.execute_reply.started": "2023-10-11T08:34:45.966936Z"
    },
    "tags": []
   },
   "outputs": [
    {
     "data": {
      "text/plain": [
       "(945, 5)"
      ]
     },
     "execution_count": 4,
     "metadata": {},
     "output_type": "execute_result"
    }
   ],
   "source": [
    "transcripts_features_WK36_Validated_stage1_phone=transcripts_features_WK36_Validated_stage1[transcripts_features_WK36_Validated_stage1['media_type']=='phone'].reset_index(drop=True)\n",
    "transcripts_features_WK36_Validated_stage1_phone.shape"
   ]
  },
  {
   "cell_type": "code",
   "execution_count": 5,
   "id": "2d10020c-4328-4089-a728-86d14187082b",
   "metadata": {
    "execution": {
     "iopub.execute_input": "2023-10-11T08:34:46.263815Z",
     "iopub.status.busy": "2023-10-11T08:34:46.263396Z",
     "iopub.status.idle": "2023-10-11T08:34:50.043698Z",
     "shell.execute_reply": "2023-10-11T08:34:50.043035Z",
     "shell.execute_reply.started": "2023-10-11T08:34:46.263776Z"
    },
    "tags": []
   },
   "outputs": [
    {
     "data": {
      "text/plain": [
       "(945, 6)"
      ]
     },
     "execution_count": 5,
     "metadata": {},
     "output_type": "execute_result"
    }
   ],
   "source": [
    "transcripts_features_WK36_Validated_stage1_phone['all_utterances_proc'] = transcripts_features_WK36_Validated_stage1_phone['all_utterances']\n",
    "transcripts_features_WK36_Validated_stage1_phone['all_utterances_proc'] = transcripts_features_WK36_Validated_stage1_phone['all_utterances_proc'].apply(process_voice_raw_text)\n",
    "transcripts_features_WK36_Validated_stage1_phone.shape\n"
   ]
  },
  {
   "cell_type": "code",
   "execution_count": 6,
   "id": "319cbd67-9cb0-445f-822a-f855f56dfab9",
   "metadata": {
    "execution": {
     "iopub.execute_input": "2023-10-11T08:34:50.054981Z",
     "iopub.status.busy": "2023-10-11T08:34:50.054755Z",
     "iopub.status.idle": "2023-10-11T08:34:50.064549Z",
     "shell.execute_reply": "2023-10-11T08:34:50.063985Z",
     "shell.execute_reply.started": "2023-10-11T08:34:50.054960Z"
    },
    "tags": []
   },
   "outputs": [
    {
     "data": {
      "text/html": [
       "<div>\n",
       "<style scoped>\n",
       "    .dataframe tbody tr th:only-of-type {\n",
       "        vertical-align: middle;\n",
       "    }\n",
       "\n",
       "    .dataframe tbody tr th {\n",
       "        vertical-align: top;\n",
       "    }\n",
       "\n",
       "    .dataframe thead th {\n",
       "        text-align: right;\n",
       "    }\n",
       "</style>\n",
       "<table border=\"1\" class=\"dataframe\">\n",
       "  <thead>\n",
       "    <tr style=\"text-align: right;\">\n",
       "      <th></th>\n",
       "      <th>all_utterances</th>\n",
       "      <th>all_utterances_proc</th>\n",
       "    </tr>\n",
       "  </thead>\n",
       "  <tbody>\n",
       "    <tr>\n",
       "      <th>0</th>\n",
       "      <td>Customer: calling paypal this is my name may i have your first and last name please\\tAgent: and about the right\\tCustomer: hi how may i help you this ... afternoon\\tAgent: oh i would just call in ah um ... i wanna transfer ... a ... little bit of money my paypal account i ... transfer it to my saved ... paypal savings account ... you tell me how to do that again\\tCustomer: ok one moment\\tAgent: ok\\tCustomer: ok so do you see ... um in your savings account where it says ... money\\tAgent: yeah\\tCustomer: ok so you're gonna click that\\tAgent: ok\\tCustomer: and then you're gonna ... have money to your general savings\\tAgent: or existing go ... yeah i know i i know all that i i wanna know how transfer from my paypal ... my paypal balance into the savings ... ok so ... that's not what was said\\tCustomer: ok ... you would do the same way and they would ask you how ... um ... how you would like to add it ... and then you should be able to click ... your balance if you have money in your balance\\tAgent: so that i had added money\\tCustomer: yeah general\\tAgent: ok ... so it popped up general statement and then it says ... choose how much ... add ... and that's all it shows me ... it doesn't have the yep ... spot where i ... choose ... ok ... we ... have\\tCustomer: we got until the next page yeah\\tAgent: yeah it says ... time today\\tCustomer: so you only have sixteen dollars in your account ... so is it not ... it's not giving you the option to ... type in however much you want\\tAgent: no i i wanna ... the last i just ... um ... i spoke to a lady last month i don't remember how to do it she told me how to do it ... um and i'm just trying to find out how to do it\\tCustomer: ok one moment\\tAgent: ok thank you\\t</td>\n",
       "      <td>&lt;s&gt; CUSTOMER: calling paypal this is my name may i have your first and last name please &lt;/s&gt; AGENT: and about the right &lt;/s&gt; CUSTOMER: hi how may i help you this [pause] afternoon &lt;/s&gt; AGENT: oh i would just call in ah um [pause] i wanna transfer [pause] a [pause] little bit of money my paypal account i [pause] transfer it to my saved [pause] paypal savings account [pause] you tell me how to do that again &lt;/s&gt; CUSTOMER: ok [digit] moment &lt;/s&gt; AGENT: ok &lt;/s&gt; CUSTOMER: ok so do you see [pause] um in your savings account where it says [pause] money &lt;/s&gt; AGENT: yeah &lt;/s&gt; CUSTOMER: ok so you're gonna click that &lt;/s&gt; AGENT: ok &lt;/s&gt; CUSTOMER: and then you're gonna [pause] have money to your general savings &lt;/s&gt; AGENT: or existing go [pause] yeah i know i [repeat] know all that i [repeat] wanna know how transfer from my paypal [pause] my paypal balance into the savings [pause] ok so [pause] that's not what was said &lt;/s&gt; CUSTOMER: ok [pause] you would do the same way and they would ask you how [pause] um [pause] how you would like to add it [pause] and then you should be able to click [pause] your balance if you have money in your balance &lt;/s&gt; AGENT: so that i had added money &lt;/s&gt; CUSTOMER: yeah general &lt;/s&gt; AGENT: ok [pause] so it popped up general statement and then it says [pause] choose how much [pause] add [pause] and that's all it shows me [pause] it doesn't have the yep [pause] spot where i [pause] choose [pause] ok [pause] we [pause] have &lt;/s&gt; CUSTOMER: we got until the next page yeah &lt;/s&gt; AGENT: yeah it says [pause] time today &lt;/s&gt; CUSTOMER: so you only have [digit] dollars in your account [pause] so is it not [pause] it's not giving you the option to [pause] type in however much you want &lt;/s&gt; AGENT: no i [repeat] wanna [pause] the last i just [pause] um [pause] i spoke to a lady last month i don't remember how to do it she told me how to do it [pause] um and i'm just trying to find out how to do it &lt;/s&gt; CUSTOMER: ok [digit] moment &lt;/s&gt; AGENT: ok thank you &lt;/s&gt;</td>\n",
       "    </tr>\n",
       "  </tbody>\n",
       "</table>\n",
       "</div>"
      ],
      "text/plain": [
       "                                                                                                                                                                                                                                                                                                                                                                                                                                                                                                                                                                                                                                                                                                                                                                                                                                                                                                                                                                                                                                                                                                                                                                                                                                                                                                                                                                                                                                                                                                                                                                                                                                                                                                                                                                                    all_utterances  \\\n",
       "0  Customer: calling paypal this is my name may i have your first and last name please\\tAgent: and about the right\\tCustomer: hi how may i help you this ... afternoon\\tAgent: oh i would just call in ah um ... i wanna transfer ... a ... little bit of money my paypal account i ... transfer it to my saved ... paypal savings account ... you tell me how to do that again\\tCustomer: ok one moment\\tAgent: ok\\tCustomer: ok so do you see ... um in your savings account where it says ... money\\tAgent: yeah\\tCustomer: ok so you're gonna click that\\tAgent: ok\\tCustomer: and then you're gonna ... have money to your general savings\\tAgent: or existing go ... yeah i know i i know all that i i wanna know how transfer from my paypal ... my paypal balance into the savings ... ok so ... that's not what was said\\tCustomer: ok ... you would do the same way and they would ask you how ... um ... how you would like to add it ... and then you should be able to click ... your balance if you have money in your balance\\tAgent: so that i had added money\\tCustomer: yeah general\\tAgent: ok ... so it popped up general statement and then it says ... choose how much ... add ... and that's all it shows me ... it doesn't have the yep ... spot where i ... choose ... ok ... we ... have\\tCustomer: we got until the next page yeah\\tAgent: yeah it says ... time today\\tCustomer: so you only have sixteen dollars in your account ... so is it not ... it's not giving you the option to ... type in however much you want\\tAgent: no i i wanna ... the last i just ... um ... i spoke to a lady last month i don't remember how to do it she told me how to do it ... um and i'm just trying to find out how to do it\\tCustomer: ok one moment\\tAgent: ok thank you\\t   \n",
       "\n",
       "                                                                                                                                                                                                                                                                                                                                                                                                                                                                                                                                                                                                                                                                                                                                                                                                                                                                                                                                                                                                                                                                                                                                                                                                                                                                                                                                                                                                                                                                                                                                                                                                                                                                                                                                                                                                                                                                                                                                                                                                                                                           all_utterances_proc  \n",
       "0  <s> CUSTOMER: calling paypal this is my name may i have your first and last name please </s> AGENT: and about the right </s> CUSTOMER: hi how may i help you this [pause] afternoon </s> AGENT: oh i would just call in ah um [pause] i wanna transfer [pause] a [pause] little bit of money my paypal account i [pause] transfer it to my saved [pause] paypal savings account [pause] you tell me how to do that again </s> CUSTOMER: ok [digit] moment </s> AGENT: ok </s> CUSTOMER: ok so do you see [pause] um in your savings account where it says [pause] money </s> AGENT: yeah </s> CUSTOMER: ok so you're gonna click that </s> AGENT: ok </s> CUSTOMER: and then you're gonna [pause] have money to your general savings </s> AGENT: or existing go [pause] yeah i know i [repeat] know all that i [repeat] wanna know how transfer from my paypal [pause] my paypal balance into the savings [pause] ok so [pause] that's not what was said </s> CUSTOMER: ok [pause] you would do the same way and they would ask you how [pause] um [pause] how you would like to add it [pause] and then you should be able to click [pause] your balance if you have money in your balance </s> AGENT: so that i had added money </s> CUSTOMER: yeah general </s> AGENT: ok [pause] so it popped up general statement and then it says [pause] choose how much [pause] add [pause] and that's all it shows me [pause] it doesn't have the yep [pause] spot where i [pause] choose [pause] ok [pause] we [pause] have </s> CUSTOMER: we got until the next page yeah </s> AGENT: yeah it says [pause] time today </s> CUSTOMER: so you only have [digit] dollars in your account [pause] so is it not [pause] it's not giving you the option to [pause] type in however much you want </s> AGENT: no i [repeat] wanna [pause] the last i just [pause] um [pause] i spoke to a lady last month i don't remember how to do it she told me how to do it [pause] um and i'm just trying to find out how to do it </s> CUSTOMER: ok [digit] moment </s> AGENT: ok thank you </s>  "
      ]
     },
     "execution_count": 6,
     "metadata": {},
     "output_type": "execute_result"
    }
   ],
   "source": [
    "transcripts_features_WK36_Validated_stage1_phone.head(1)[['all_utterances','all_utterances_proc']]"
   ]
  },
  {
   "cell_type": "code",
   "execution_count": 18,
   "id": "4880dfdf-6bdb-4153-b21e-4fe37b3e098e",
   "metadata": {
    "execution": {
     "iopub.execute_input": "2023-10-11T08:30:11.545882Z",
     "iopub.status.busy": "2023-10-11T08:30:11.545162Z",
     "iopub.status.idle": "2023-10-11T08:30:11.781049Z",
     "shell.execute_reply": "2023-10-11T08:30:11.780179Z",
     "shell.execute_reply.started": "2023-10-11T08:30:11.545848Z"
    },
    "tags": []
   },
   "outputs": [],
   "source": [
    "transcripts_features_WK36_Validated_stage1_phone.to_csv('preprocessed_daig_savings_proucts_1000.csv',index=False)"
   ]
  },
  {
   "cell_type": "code",
   "execution_count": 7,
   "id": "cf05dc4e-fc33-4861-8e37-e8d9ca6a710e",
   "metadata": {
    "execution": {
     "iopub.execute_input": "2023-10-11T08:34:54.962211Z",
     "iopub.status.busy": "2023-10-11T08:34:54.961363Z",
     "iopub.status.idle": "2023-10-11T08:34:54.966481Z",
     "shell.execute_reply": "2023-10-11T08:34:54.965907Z",
     "shell.execute_reply.started": "2023-10-11T08:34:54.962178Z"
    },
    "tags": []
   },
   "outputs": [
    {
     "data": {
      "text/plain": [
       "['Case_ID',\n",
       " 'media_type',\n",
       " 'all_utterances',\n",
       " 'translation_flag',\n",
       " 'lang',\n",
       " 'all_utterances_proc']"
      ]
     },
     "execution_count": 7,
     "metadata": {},
     "output_type": "execute_result"
    }
   ],
   "source": [
    "list(transcripts_features_WK36_Validated_stage1_phone)"
   ]
  },
  {
   "cell_type": "code",
   "execution_count": 8,
   "id": "e6382fcf-599f-4e0b-a39c-182cf34b5170",
   "metadata": {
    "execution": {
     "iopub.execute_input": "2023-10-11T08:34:56.291646Z",
     "iopub.status.busy": "2023-10-11T08:34:56.291281Z",
     "iopub.status.idle": "2023-10-11T08:34:56.296608Z",
     "shell.execute_reply": "2023-10-11T08:34:56.295972Z",
     "shell.execute_reply.started": "2023-10-11T08:34:56.291602Z"
    },
    "tags": []
   },
   "outputs": [
    {
     "data": {
      "text/plain": [
       "(945, 6)"
      ]
     },
     "execution_count": 8,
     "metadata": {},
     "output_type": "execute_result"
    }
   ],
   "source": [
    "transcripts_features_WK36_Validated_stage1_phone.shape"
   ]
  },
  {
   "cell_type": "code",
   "execution_count": 13,
   "id": "49a44ccc-4ad2-4fb0-9c24-eb266464fb81",
   "metadata": {
    "execution": {
     "iopub.execute_input": "2023-10-11T08:36:19.963104Z",
     "iopub.status.busy": "2023-10-11T08:36:19.962308Z",
     "iopub.status.idle": "2023-10-11T08:36:20.079630Z",
     "shell.execute_reply": "2023-10-11T08:36:20.078908Z",
     "shell.execute_reply.started": "2023-10-11T08:36:19.963072Z"
    },
    "tags": []
   },
   "outputs": [
    {
     "data": {
      "text/plain": [
       "(948, 2)"
      ]
     },
     "execution_count": 13,
     "metadata": {},
     "output_type": "execute_result"
    }
   ],
   "source": [
    "data_received=pd.read_excel(r'HYSA_1000 1st review 4th Sep.xlsx')[['Voice Id','HYSA Complaint Y_N']]\n",
    "data_received=data_received[~data_received['HYSA Complaint Y_N'].isnull()].reset_index(drop=True)\n",
    "data_received=data_received.drop_duplicates().reset_index(drop=True)\n",
    "data_received.shape"
   ]
  },
  {
   "cell_type": "code",
   "execution_count": 18,
   "id": "7b97738c-a8c5-4c4d-9362-00c5ae5ea00f",
   "metadata": {
    "execution": {
     "iopub.execute_input": "2023-10-11T08:37:42.962131Z",
     "iopub.status.busy": "2023-10-11T08:37:42.961402Z",
     "iopub.status.idle": "2023-10-11T08:37:42.970195Z",
     "shell.execute_reply": "2023-10-11T08:37:42.969554Z",
     "shell.execute_reply.started": "2023-10-11T08:37:42.962098Z"
    },
    "tags": []
   },
   "outputs": [
    {
     "data": {
      "text/html": [
       "<div>\n",
       "<style scoped>\n",
       "    .dataframe tbody tr th:only-of-type {\n",
       "        vertical-align: middle;\n",
       "    }\n",
       "\n",
       "    .dataframe tbody tr th {\n",
       "        vertical-align: top;\n",
       "    }\n",
       "\n",
       "    .dataframe thead th {\n",
       "        text-align: right;\n",
       "    }\n",
       "</style>\n",
       "<table border=\"1\" class=\"dataframe\">\n",
       "  <thead>\n",
       "    <tr style=\"text-align: right;\">\n",
       "      <th></th>\n",
       "      <th>Voice Id</th>\n",
       "      <th>HYSA Complaint Y_N</th>\n",
       "    </tr>\n",
       "  </thead>\n",
       "  <tbody>\n",
       "    <tr>\n",
       "      <th>247</th>\n",
       "      <td>7231934623170764441</td>\n",
       "      <td>No</td>\n",
       "    </tr>\n",
       "    <tr>\n",
       "      <th>361</th>\n",
       "      <td>7230822024777634962</td>\n",
       "      <td>Yes</td>\n",
       "    </tr>\n",
       "    <tr>\n",
       "      <th>436</th>\n",
       "      <td>7231586060804890430</td>\n",
       "      <td>Yes</td>\n",
       "    </tr>\n",
       "    <tr>\n",
       "      <th>450</th>\n",
       "      <td>7230822024777634962</td>\n",
       "      <td>No</td>\n",
       "    </tr>\n",
       "    <tr>\n",
       "      <th>451</th>\n",
       "      <td>7231586060804890430</td>\n",
       "      <td>No</td>\n",
       "    </tr>\n",
       "    <tr>\n",
       "      <th>452</th>\n",
       "      <td>7231934623170764441</td>\n",
       "      <td>Yes</td>\n",
       "    </tr>\n",
       "  </tbody>\n",
       "</table>\n",
       "</div>"
      ],
      "text/plain": [
       "                Voice Id HYSA Complaint Y_N\n",
       "247  7231934623170764441                 No\n",
       "361  7230822024777634962                Yes\n",
       "436  7231586060804890430                Yes\n",
       "450  7230822024777634962                 No\n",
       "451  7231586060804890430                 No\n",
       "452  7231934623170764441                Yes"
      ]
     },
     "execution_count": 18,
     "metadata": {},
     "output_type": "execute_result"
    }
   ],
   "source": [
    "data_received[data_received['Voice Id'].isin([7230822024777634962,7231586060804890430,7231934623170764441])]\n",
    "\n"
   ]
  },
  {
   "cell_type": "code",
   "execution_count": 24,
   "id": "e6e007c5-448d-42d0-ac47-267052de0515",
   "metadata": {
    "execution": {
     "iopub.execute_input": "2023-10-11T08:47:31.960952Z",
     "iopub.status.busy": "2023-10-11T08:47:31.960286Z",
     "iopub.status.idle": "2023-10-11T08:47:31.965696Z",
     "shell.execute_reply": "2023-10-11T08:47:31.964900Z",
     "shell.execute_reply.started": "2023-10-11T08:47:31.960921Z"
    }
   },
   "outputs": [],
   "source": [
    "data_received=data_received.rename(columns={'Voice Id':'Case_ID'})"
   ]
  },
  {
   "cell_type": "code",
   "execution_count": 20,
   "id": "4ca0f796-ef95-4283-8743-fd87c5e920fd",
   "metadata": {
    "execution": {
     "iopub.execute_input": "2023-10-11T08:42:10.206354Z",
     "iopub.status.busy": "2023-10-11T08:42:10.205473Z",
     "iopub.status.idle": "2023-10-11T08:42:10.213287Z",
     "shell.execute_reply": "2023-10-11T08:42:10.212679Z",
     "shell.execute_reply.started": "2023-10-11T08:42:10.206318Z"
    }
   },
   "outputs": [
    {
     "data": {
      "text/plain": [
       "(942, 2)"
      ]
     },
     "execution_count": 20,
     "metadata": {},
     "output_type": "execute_result"
    }
   ],
   "source": [
    "data_received=data_received[~data_received['Voice Id'].isin([7230822024777634962,7231586060804890430,7231934623170764441])].reset_index(drop=True)\n",
    "data_received.shape\n",
    "\n",
    "transcripts_features_WK36_Validated_stage1_phone=transcripts_features_WK36_Validated_stage1_phone[~transcripts_features_WK36_Validated_stage1_phone['Case_ID'].isin([7230822024777634962,7231586060804890430,7231934623170764441])].reset_index(drop=True)\n",
    "transcripts_features_WK36_Validated_stage1_phone.shape"
   ]
  },
  {
   "cell_type": "code",
   "execution_count": 23,
   "id": "d3775421-852b-4a60-a6fc-af28da00bd3c",
   "metadata": {
    "execution": {
     "iopub.execute_input": "2023-10-11T08:43:45.507771Z",
     "iopub.status.busy": "2023-10-11T08:43:45.507034Z",
     "iopub.status.idle": "2023-10-11T08:43:45.513364Z",
     "shell.execute_reply": "2023-10-11T08:43:45.512802Z",
     "shell.execute_reply.started": "2023-10-11T08:43:45.507721Z"
    },
    "tags": []
   },
   "outputs": [
    {
     "data": {
      "text/plain": [
       "942"
      ]
     },
     "execution_count": 23,
     "metadata": {},
     "output_type": "execute_result"
    }
   ],
   "source": [
    "len(set(transcripts_features_WK36_Validated_stage1_phone['Case_ID']) & set(data_received['Voice Id']))\n"
   ]
  },
  {
   "cell_type": "code",
   "execution_count": 25,
   "id": "43eeb7ee-55f7-4d94-963d-9fbc63a6e3b4",
   "metadata": {
    "execution": {
     "iopub.execute_input": "2023-10-11T08:48:24.348584Z",
     "iopub.status.busy": "2023-10-11T08:48:24.347648Z",
     "iopub.status.idle": "2023-10-11T08:48:24.355841Z",
     "shell.execute_reply": "2023-10-11T08:48:24.355164Z",
     "shell.execute_reply.started": "2023-10-11T08:48:24.348548Z"
    }
   },
   "outputs": [],
   "source": [
    "final=pd.merge(transcripts_features_WK36_Validated_stage1_phone,data_received,on='Case_ID',how='left')\n",
    "\n"
   ]
  },
  {
   "cell_type": "code",
   "execution_count": 26,
   "id": "4c0081a8-bcc6-4d4a-ac05-4affc72e64e1",
   "metadata": {
    "execution": {
     "iopub.execute_input": "2023-10-11T08:48:31.961782Z",
     "iopub.status.busy": "2023-10-11T08:48:31.961390Z",
     "iopub.status.idle": "2023-10-11T08:48:31.966432Z",
     "shell.execute_reply": "2023-10-11T08:48:31.965851Z",
     "shell.execute_reply.started": "2023-10-11T08:48:31.961752Z"
    }
   },
   "outputs": [
    {
     "data": {
      "text/plain": [
       "(942, 7)"
      ]
     },
     "execution_count": 26,
     "metadata": {},
     "output_type": "execute_result"
    }
   ],
   "source": [
    "final.shape"
   ]
  },
  {
   "cell_type": "code",
   "execution_count": 27,
   "id": "f152d0d8-1bfd-4606-9a9e-0995ded135fb",
   "metadata": {
    "execution": {
     "iopub.execute_input": "2023-10-11T08:48:41.008241Z",
     "iopub.status.busy": "2023-10-11T08:48:41.007387Z",
     "iopub.status.idle": "2023-10-11T08:48:41.012881Z",
     "shell.execute_reply": "2023-10-11T08:48:41.012280Z",
     "shell.execute_reply.started": "2023-10-11T08:48:41.008208Z"
    }
   },
   "outputs": [
    {
     "data": {
      "text/plain": [
       "['Case_ID',\n",
       " 'media_type',\n",
       " 'all_utterances',\n",
       " 'translation_flag',\n",
       " 'lang',\n",
       " 'all_utterances_proc',\n",
       " 'HYSA Complaint Y_N']"
      ]
     },
     "execution_count": 27,
     "metadata": {},
     "output_type": "execute_result"
    }
   ],
   "source": [
    "list(final)"
   ]
  },
  {
   "cell_type": "code",
   "execution_count": 29,
   "id": "1e19e8be-689f-4e69-91cf-b283028209ea",
   "metadata": {
    "execution": {
     "iopub.execute_input": "2023-10-11T08:49:25.686749Z",
     "iopub.status.busy": "2023-10-11T08:49:25.686109Z",
     "iopub.status.idle": "2023-10-11T08:49:25.693257Z",
     "shell.execute_reply": "2023-10-11T08:49:25.692549Z",
     "shell.execute_reply.started": "2023-10-11T08:49:25.686713Z"
    },
    "tags": []
   },
   "outputs": [
    {
     "data": {
      "text/plain": [
       "No     558\n",
       "Yes    384\n",
       "Name: HYSA Complaint Y_N, dtype: int64"
      ]
     },
     "execution_count": 29,
     "metadata": {},
     "output_type": "execute_result"
    }
   ],
   "source": [
    "final['HYSA Complaint Y_N'].value_counts()"
   ]
  },
  {
   "cell_type": "code",
   "execution_count": 31,
   "id": "d4cb33da-3dd1-4ffa-8a23-79ff475a7626",
   "metadata": {
    "execution": {
     "iopub.execute_input": "2023-10-11T08:50:13.517824Z",
     "iopub.status.busy": "2023-10-11T08:50:13.517074Z",
     "iopub.status.idle": "2023-10-11T08:50:13.527125Z",
     "shell.execute_reply": "2023-10-11T08:50:13.526458Z",
     "shell.execute_reply.started": "2023-10-11T08:50:13.517792Z"
    },
    "tags": []
   },
   "outputs": [
    {
     "data": {
      "text/html": [
       "<div>\n",
       "<style scoped>\n",
       "    .dataframe tbody tr th:only-of-type {\n",
       "        vertical-align: middle;\n",
       "    }\n",
       "\n",
       "    .dataframe tbody tr th {\n",
       "        vertical-align: top;\n",
       "    }\n",
       "\n",
       "    .dataframe thead th {\n",
       "        text-align: right;\n",
       "    }\n",
       "</style>\n",
       "<table border=\"1\" class=\"dataframe\">\n",
       "  <thead>\n",
       "    <tr style=\"text-align: right;\">\n",
       "      <th></th>\n",
       "      <th>Case_ID</th>\n",
       "      <th>media_type</th>\n",
       "      <th>all_utterances</th>\n",
       "      <th>translation_flag</th>\n",
       "      <th>lang</th>\n",
       "      <th>all_utterances_proc</th>\n",
       "      <th>HYSA Complaint Y_N</th>\n",
       "    </tr>\n",
       "  </thead>\n",
       "  <tbody>\n",
       "    <tr>\n",
       "      <th>0</th>\n",
       "      <td>7228301746558280648</td>\n",
       "      <td>phone</td>\n",
       "      <td>Customer: calling paypal this is my name may i have your first and last name please\\tAgent: and about the right\\tCustomer: hi how may i help you this ... afternoon\\tAgent: oh i would just call in ah um ... i wanna transfer ... a ... little bit of money my paypal account i ... transfer it to my saved ... paypal savings account ... you tell me how to do that again\\tCustomer: ok one moment\\tAgent: ok\\tCustomer: ok so do you see ... um in your savings account where it says ... money\\tAgent: yeah\\tCustomer: ok so you're gonna click that\\tAgent: ok\\tCustomer: and then you're gonna ... have money to your general savings\\tAgent: or existing go ... yeah i know i i know all that i i wanna know how transfer from my paypal ... my paypal balance into the savings ... ok so ... that's not what was said\\tCustomer: ok ... you would do the same way and they would ask you how ... um ... how you would like to add it ... and then you should be able to click ... your balance if you have money in your balance\\tAgent: so that i had added money\\tCustomer: yeah general\\tAgent: ok ... so it popped up general statement and then it says ... choose how much ... add ... and that's all it shows me ... it doesn't have the yep ... spot where i ... choose ... ok ... we ... have\\tCustomer: we got until the next page yeah\\tAgent: yeah it says ... time today\\tCustomer: so you only have sixteen dollars in your account ... so is it not ... it's not giving you the option to ... type in however much you want\\tAgent: no i i wanna ... the last i just ... um ... i spoke to a lady last month i don't remember how to do it she told me how to do it ... um and i'm just trying to find out how to do it\\tCustomer: ok one moment\\tAgent: ok thank you\\t</td>\n",
       "      <td>Y</td>\n",
       "      <td>en</td>\n",
       "      <td>&lt;s&gt; CUSTOMER: calling paypal this is my name may i have your first and last name please &lt;/s&gt; AGENT: and about the right &lt;/s&gt; CUSTOMER: hi how may i help you this [pause] afternoon &lt;/s&gt; AGENT: oh i would just call in ah um [pause] i wanna transfer [pause] a [pause] little bit of money my paypal account i [pause] transfer it to my saved [pause] paypal savings account [pause] you tell me how to do that again &lt;/s&gt; CUSTOMER: ok [digit] moment &lt;/s&gt; AGENT: ok &lt;/s&gt; CUSTOMER: ok so do you see [pause] um in your savings account where it says [pause] money &lt;/s&gt; AGENT: yeah &lt;/s&gt; CUSTOMER: ok so you're gonna click that &lt;/s&gt; AGENT: ok &lt;/s&gt; CUSTOMER: and then you're gonna [pause] have money to your general savings &lt;/s&gt; AGENT: or existing go [pause] yeah i know i [repeat] know all that i [repeat] wanna know how transfer from my paypal [pause] my paypal balance into the savings [pause] ok so [pause] that's not what was said &lt;/s&gt; CUSTOMER: ok [pause] you would do the same way and they would ask you how [pause] um [pause] how you would like to add it [pause] and then you should be able to click [pause] your balance if you have money in your balance &lt;/s&gt; AGENT: so that i had added money &lt;/s&gt; CUSTOMER: yeah general &lt;/s&gt; AGENT: ok [pause] so it popped up general statement and then it says [pause] choose how much [pause] add [pause] and that's all it shows me [pause] it doesn't have the yep [pause] spot where i [pause] choose [pause] ok [pause] we [pause] have &lt;/s&gt; CUSTOMER: we got until the next page yeah &lt;/s&gt; AGENT: yeah it says [pause] time today &lt;/s&gt; CUSTOMER: so you only have [digit] dollars in your account [pause] so is it not [pause] it's not giving you the option to [pause] type in however much you want &lt;/s&gt; AGENT: no i [repeat] wanna [pause] the last i just [pause] um [pause] i spoke to a lady last month i don't remember how to do it she told me how to do it [pause] um and i'm just trying to find out how to do it &lt;/s&gt; CUSTOMER: ok [digit] moment &lt;/s&gt; AGENT: ok thank you &lt;/s&gt;</td>\n",
       "      <td>No</td>\n",
       "    </tr>\n",
       "  </tbody>\n",
       "</table>\n",
       "</div>"
      ],
      "text/plain": [
       "               Case_ID media_type  \\\n",
       "0  7228301746558280648      phone   \n",
       "\n",
       "                                                                                                                                                                                                                                                                                                                                                                                                                                                                                                                                                                                                                                                                                                                                                                                                                                                                                                                                                                                                                                                                                                                                                                                                                                                                                                                                                                                                                                                                                                                                                                                                                                                                                                                                                                                    all_utterances  \\\n",
       "0  Customer: calling paypal this is my name may i have your first and last name please\\tAgent: and about the right\\tCustomer: hi how may i help you this ... afternoon\\tAgent: oh i would just call in ah um ... i wanna transfer ... a ... little bit of money my paypal account i ... transfer it to my saved ... paypal savings account ... you tell me how to do that again\\tCustomer: ok one moment\\tAgent: ok\\tCustomer: ok so do you see ... um in your savings account where it says ... money\\tAgent: yeah\\tCustomer: ok so you're gonna click that\\tAgent: ok\\tCustomer: and then you're gonna ... have money to your general savings\\tAgent: or existing go ... yeah i know i i know all that i i wanna know how transfer from my paypal ... my paypal balance into the savings ... ok so ... that's not what was said\\tCustomer: ok ... you would do the same way and they would ask you how ... um ... how you would like to add it ... and then you should be able to click ... your balance if you have money in your balance\\tAgent: so that i had added money\\tCustomer: yeah general\\tAgent: ok ... so it popped up general statement and then it says ... choose how much ... add ... and that's all it shows me ... it doesn't have the yep ... spot where i ... choose ... ok ... we ... have\\tCustomer: we got until the next page yeah\\tAgent: yeah it says ... time today\\tCustomer: so you only have sixteen dollars in your account ... so is it not ... it's not giving you the option to ... type in however much you want\\tAgent: no i i wanna ... the last i just ... um ... i spoke to a lady last month i don't remember how to do it she told me how to do it ... um and i'm just trying to find out how to do it\\tCustomer: ok one moment\\tAgent: ok thank you\\t   \n",
       "\n",
       "  translation_flag lang  \\\n",
       "0                Y   en   \n",
       "\n",
       "                                                                                                                                                                                                                                                                                                                                                                                                                                                                                                                                                                                                                                                                                                                                                                                                                                                                                                                                                                                                                                                                                                                                                                                                                                                                                                                                                                                                                                                                                                                                                                                                                                                                                                                                                                                                                                                                                                                                                                                                                                                           all_utterances_proc  \\\n",
       "0  <s> CUSTOMER: calling paypal this is my name may i have your first and last name please </s> AGENT: and about the right </s> CUSTOMER: hi how may i help you this [pause] afternoon </s> AGENT: oh i would just call in ah um [pause] i wanna transfer [pause] a [pause] little bit of money my paypal account i [pause] transfer it to my saved [pause] paypal savings account [pause] you tell me how to do that again </s> CUSTOMER: ok [digit] moment </s> AGENT: ok </s> CUSTOMER: ok so do you see [pause] um in your savings account where it says [pause] money </s> AGENT: yeah </s> CUSTOMER: ok so you're gonna click that </s> AGENT: ok </s> CUSTOMER: and then you're gonna [pause] have money to your general savings </s> AGENT: or existing go [pause] yeah i know i [repeat] know all that i [repeat] wanna know how transfer from my paypal [pause] my paypal balance into the savings [pause] ok so [pause] that's not what was said </s> CUSTOMER: ok [pause] you would do the same way and they would ask you how [pause] um [pause] how you would like to add it [pause] and then you should be able to click [pause] your balance if you have money in your balance </s> AGENT: so that i had added money </s> CUSTOMER: yeah general </s> AGENT: ok [pause] so it popped up general statement and then it says [pause] choose how much [pause] add [pause] and that's all it shows me [pause] it doesn't have the yep [pause] spot where i [pause] choose [pause] ok [pause] we [pause] have </s> CUSTOMER: we got until the next page yeah </s> AGENT: yeah it says [pause] time today </s> CUSTOMER: so you only have [digit] dollars in your account [pause] so is it not [pause] it's not giving you the option to [pause] type in however much you want </s> AGENT: no i [repeat] wanna [pause] the last i just [pause] um [pause] i spoke to a lady last month i don't remember how to do it she told me how to do it [pause] um and i'm just trying to find out how to do it </s> CUSTOMER: ok [digit] moment </s> AGENT: ok thank you </s>   \n",
       "\n",
       "  HYSA Complaint Y_N  \n",
       "0                 No  "
      ]
     },
     "execution_count": 31,
     "metadata": {},
     "output_type": "execute_result"
    }
   ],
   "source": [
    "final.head(1)"
   ]
  },
  {
   "cell_type": "code",
   "execution_count": 32,
   "id": "fcf5e9db-a0bb-4c5f-a0ec-472273991697",
   "metadata": {
    "execution": {
     "iopub.execute_input": "2023-10-11T08:50:17.472132Z",
     "iopub.status.busy": "2023-10-11T08:50:17.471476Z",
     "iopub.status.idle": "2023-10-11T08:50:17.709462Z",
     "shell.execute_reply": "2023-10-11T08:50:17.708432Z",
     "shell.execute_reply.started": "2023-10-11T08:50:17.472103Z"
    }
   },
   "outputs": [],
   "source": [
    "final.to_csv('preprocessed_daig_savings_proucts_1000.csv',index=False)"
   ]
  },
  {
   "cell_type": "code",
   "execution_count": null,
   "id": "aa4fb358-476e-4373-9a7d-4f5a61cb73ac",
   "metadata": {},
   "outputs": [],
   "source": []
  }
 ],
 "metadata": {
  "kernelspec": {
   "display_name": "Python 3 (ipykernel)",
   "language": "python",
   "name": "python3"
  },
  "language_info": {
   "codemirror_mode": {
    "name": "ipython",
    "version": 3
   },
   "file_extension": ".py",
   "mimetype": "text/x-python",
   "name": "python",
   "nbconvert_exporter": "python",
   "pygments_lexer": "ipython3",
   "version": "3.8.13"
  }
 },
 "nbformat": 4,
 "nbformat_minor": 5
}
